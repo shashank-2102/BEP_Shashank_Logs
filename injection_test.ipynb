{
 "cells": [
  {
   "cell_type": "code",
   "execution_count": 1,
   "metadata": {},
   "outputs": [],
   "source": [
    "import pandas as pd\n",
    "import matplotlib\n",
    "import numpy as np\n",
    "import seaborn \n",
    "import re\n",
    "import random\n",
    "import datetime"
   ]
  },
  {
   "cell_type": "code",
   "execution_count": 2,
   "metadata": {},
   "outputs": [],
   "source": [
    "test_2klog_info = pd.read_csv(\"data\\HDFS_2K\\HDFS_2k.log_structured.csv\")"
   ]
  },
  {
   "cell_type": "code",
   "execution_count": 3,
   "metadata": {},
   "outputs": [],
   "source": [
    "log_lines = []\n",
    "with open('data\\\\HDFS_2K\\\\HDFS_2k.log', 'r') as file:\n",
    "    for line in file:\n",
    "        log_lines.append(line.strip())\n",
    "\n",
    "raw_logs = pd.DataFrame(log_lines, columns=['Log'])\n",
    "raw_logs['LineId'] = range(1, 2001)\n",
    "\n"
   ]
  },
  {
   "cell_type": "code",
   "execution_count": 4,
   "metadata": {},
   "outputs": [],
   "source": [
    "# temp = pd.read_table(\"data\\HDFS_2K\\HDFS_2k.log\", header=None)\n",
    "# temp"
   ]
  },
  {
   "cell_type": "code",
   "execution_count": 5,
   "metadata": {},
   "outputs": [],
   "source": [
    "merged_logs = test_2klog_info.merge(raw_logs, on = \"LineId\")\n"
   ]
  },
  {
   "cell_type": "code",
   "execution_count": 18,
   "metadata": {},
   "outputs": [
    {
     "data": {
      "text/html": [
       "<div>\n",
       "<style scoped>\n",
       "    .dataframe tbody tr th:only-of-type {\n",
       "        vertical-align: middle;\n",
       "    }\n",
       "\n",
       "    .dataframe tbody tr th {\n",
       "        vertical-align: top;\n",
       "    }\n",
       "\n",
       "    .dataframe thead th {\n",
       "        text-align: right;\n",
       "    }\n",
       "</style>\n",
       "<table border=\"1\" class=\"dataframe\">\n",
       "  <thead>\n",
       "    <tr style=\"text-align: right;\">\n",
       "      <th></th>\n",
       "      <th>LineId</th>\n",
       "      <th>EventTemplate</th>\n",
       "      <th>Log</th>\n",
       "    </tr>\n",
       "  </thead>\n",
       "  <tbody>\n",
       "    <tr>\n",
       "      <th>0</th>\n",
       "      <td>1</td>\n",
       "      <td>PacketResponder &lt;*&gt; for block blk_&lt;*&gt; terminating</td>\n",
       "      <td>081109 203615 148 INFO dfs.DataNode$PacketResp...</td>\n",
       "    </tr>\n",
       "  </tbody>\n",
       "</table>\n",
       "</div>"
      ],
      "text/plain": [
       "   LineId                                      EventTemplate  \\\n",
       "0       1  PacketResponder <*> for block blk_<*> terminating   \n",
       "\n",
       "                                                 Log  \n",
       "0  081109 203615 148 INFO dfs.DataNode$PacketResp...  "
      ]
     },
     "execution_count": 18,
     "metadata": {},
     "output_type": "execute_result"
    }
   ],
   "source": [
    "merged_logs_small = merged_logs[[\"LineId\", \"EventTemplate\", \"Log\"]]\n",
    "merged_logs_small.head(1)"
   ]
  },
  {
   "cell_type": "code",
   "execution_count": 7,
   "metadata": {},
   "outputs": [],
   "source": [
    "#merged_logs_small.to_csv(\"data\\\\merged_logs_small.csv\")"
   ]
  },
  {
   "cell_type": "code",
   "execution_count": 8,
   "metadata": {},
   "outputs": [],
   "source": [
    "def Augment_Template(template):\n",
    "  augmented_template = template.replace(\"<*>\", \"<*> type <*>\" ).replace(\"caught_fire\", \"temp_exceeded\")\n",
    "  augmented_template += \" and <*> of data_loss expected. No backup present\"\n",
    "  return augmented_template"
   ]
  },
  {
   "cell_type": "code",
   "execution_count": 23,
   "metadata": {},
   "outputs": [],
   "source": [
    "def Generate_Random_Values(template):\n",
    "    # Create a list to hold the generated values\n",
    "    values = []\n",
    "    \n",
    "    # Find all placeholders\n",
    "    placeholders = re.findall(r\"<\\*>\", template)\n",
    "    \n",
    "    # Iterate over the found placeholders and generate corresponding values\n",
    "    for i, placeholder in enumerate(placeholders):\n",
    "        if i == 0:\n",
    "            # First <*> corresponds to random selection between specific strings\n",
    "            values.append(random.choice([\"PacketResponder\", \"DataNode\", \"NameNode\"]))\n",
    "        elif i == 1:\n",
    "            # Second <*> corresponds to current time in HH:MM format\n",
    "            values.append(str(datetime.datetime.now().strftime(\"%H:%M\")))\n",
    "        elif i == 2:\n",
    "            # Third <*> corresponds to a random integer between 0 and 100\n",
    "            values.append(str(random.randint(0, 100)))\n",
    "        elif i == 3:\n",
    "            # Fourth <*> corresponds to a random integer between 0 and 100\n",
    "            values.append(str(random.randint(0, 100)))\n",
    "    \n",
    "    # Replace the placeholders in the template with the generated values\n",
    "    for value in values:\n",
    "        template = template.replace(\"<*>\", value, 1)\n",
    "    \n",
    "    return template"
   ]
  },
  {
   "cell_type": "code",
   "execution_count": 24,
   "metadata": {},
   "outputs": [
    {
     "data": {
      "text/plain": [
       "'PacketResponder <*> type <*> for block blk_<*> type <*> terminating and <*> of data_loss expected. No backup present'"
      ]
     },
     "execution_count": 24,
     "metadata": {},
     "output_type": "execute_result"
    }
   ],
   "source": [
    "tes_log = merged_logs_small.iloc[0, 2]\n",
    "test_template = merged_logs_small.iloc[0, 1]\n",
    "\n",
    "a = Augment_Template(test_template)\n",
    "a"
   ]
  },
  {
   "cell_type": "code",
   "execution_count": 25,
   "metadata": {},
   "outputs": [
    {
     "data": {
      "text/plain": [
       "'PacketResponder <*> for block blk_<*> terminating'"
      ]
     },
     "execution_count": 25,
     "metadata": {},
     "output_type": "execute_result"
    }
   ],
   "source": [
    "test_template"
   ]
  },
  {
   "cell_type": "code",
   "execution_count": 26,
   "metadata": {},
   "outputs": [
    {
     "name": "stdout",
     "output_type": "stream",
     "text": [
      "<*>\n",
      "<*>\n",
      "<*>\n",
      "<*>\n",
      "<*>\n"
     ]
    }
   ],
   "source": [
    "for placeholder in re.findall(r\"<\\*>\", a):\n",
    "    if placeholder == \"<*>\":\n",
    "        print(placeholder)"
   ]
  },
  {
   "cell_type": "code",
   "execution_count": 27,
   "metadata": {},
   "outputs": [
    {
     "data": {
      "text/plain": [
       "'PacketResponder PacketResponder type 14:18 for block blk_5 type 80 terminating and <*> of data_loss expected. No backup present'"
      ]
     },
     "execution_count": 27,
     "metadata": {},
     "output_type": "execute_result"
    }
   ],
   "source": [
    "b = Generate_Random_Values(str(a))\n",
    "b"
   ]
  },
  {
   "cell_type": "code",
   "execution_count": null,
   "metadata": {},
   "outputs": [],
   "source": []
  }
 ],
 "metadata": {
  "kernelspec": {
   "display_name": "venv",
   "language": "python",
   "name": "python3"
  },
  "language_info": {
   "codemirror_mode": {
    "name": "ipython",
    "version": 3
   },
   "file_extension": ".py",
   "mimetype": "text/x-python",
   "name": "python",
   "nbconvert_exporter": "python",
   "pygments_lexer": "ipython3",
   "version": "3.9.12"
  }
 },
 "nbformat": 4,
 "nbformat_minor": 2
}
