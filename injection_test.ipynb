{
 "cells": [
  {
   "cell_type": "code",
   "execution_count": 28,
   "metadata": {},
   "outputs": [],
   "source": [
    "import pandas as pd\n",
    "import matplotlib\n",
    "import numpy as np\n",
    "import seaborn \n",
    "import re\n",
    "import random\n",
    "import datetime"
   ]
  },
  {
   "cell_type": "code",
   "execution_count": 29,
   "metadata": {},
   "outputs": [],
   "source": [
    "test_2klog_info = pd.read_csv(\"data\\HDFS_2K\\HDFS_2k.log_structured.csv\")"
   ]
  },
  {
   "cell_type": "code",
   "execution_count": 30,
   "metadata": {},
   "outputs": [],
   "source": [
    "log_lines = []\n",
    "with open('data\\\\HDFS_2K\\\\HDFS_2k.log', 'r') as file:\n",
    "    for line in file:\n",
    "        log_lines.append(line.strip())\n",
    "\n",
    "raw_logs = pd.DataFrame(log_lines, columns=['Log'])\n",
    "raw_logs['LineId'] = range(1, 2001)\n",
    "\n"
   ]
  },
  {
   "cell_type": "code",
   "execution_count": 31,
   "metadata": {},
   "outputs": [],
   "source": [
    "# temp = pd.read_table(\"data\\HDFS_2K\\HDFS_2k.log\", header=None)\n",
    "# temp"
   ]
  },
  {
   "cell_type": "code",
   "execution_count": 32,
   "metadata": {},
   "outputs": [],
   "source": [
    "merged_logs = test_2klog_info.merge(raw_logs, on = \"LineId\")\n"
   ]
  },
  {
   "cell_type": "code",
   "execution_count": 39,
   "metadata": {},
   "outputs": [
    {
     "data": {
      "text/plain": [
       "LineId                                                           1\n",
       "EventTemplate    PacketResponder <*> for block blk_<*> terminating\n",
       "Log              081109 203615 148 INFO dfs.DataNode$PacketResp...\n",
       "Name: 0, dtype: object"
      ]
     },
     "execution_count": 39,
     "metadata": {},
     "output_type": "execute_result"
    }
   ],
   "source": [
    "merged_logs_small = merged_logs[[\"LineId\", \"EventTemplate\", \"Log\"]]\n",
    "merged_logs_small.iloc[0]"
   ]
  },
  {
   "cell_type": "code",
   "execution_count": 34,
   "metadata": {},
   "outputs": [],
   "source": [
    "def Augment_Template(template):\n",
    "  augmented_template = template.replace(\"<*>\", \"<*> type <*>\" ).replace(\"caught_fire\", \"temp_exceeded\")\n",
    "  augmented_template += \" and <*> of data_loss expected. No backup present\"\n",
    "  return augmented_template"
   ]
  },
  {
   "cell_type": "code",
   "execution_count": 46,
   "metadata": {},
   "outputs": [],
   "source": [
    "def Generate_Random_Values(template):\n",
    "    values = []\n",
    "    for placeholder in re.findall(r\"<\\*>\", template):\n",
    "        if placeholder == \"<*>\":\n",
    "            values.append(random.choice([\"PacketResponder\", \"DataNode\", \"NameNode\"]))\n",
    "        elif placeholder == \"<*>\":\n",
    "            values.append(str(datetime.datetime.now().strftime(\"%H:%M\")))\n",
    "        elif placeholder == \"<*>\":\n",
    "            values.append(str(random.randint(0, 100)))\n",
    "    return template.format(*values)\n"
   ]
  },
  {
   "cell_type": "code",
   "execution_count": 47,
   "metadata": {},
   "outputs": [
    {
     "name": "stderr",
     "output_type": "stream",
     "text": [
      "C:\\Users\\shash\\AppData\\Local\\Temp\\ipykernel_3812\\525517580.py:1: FutureWarning: Series.__getitem__ treating keys as positions is deprecated. In a future version, integer keys will always be treated as labels (consistent with DataFrame behavior). To access a value by position, use `ser.iloc[pos]`\n",
      "  tes_log = merged_logs_small.iloc[0][2]\n",
      "C:\\Users\\shash\\AppData\\Local\\Temp\\ipykernel_3812\\525517580.py:2: FutureWarning: Series.__getitem__ treating keys as positions is deprecated. In a future version, integer keys will always be treated as labels (consistent with DataFrame behavior). To access a value by position, use `ser.iloc[pos]`\n",
      "  test_template = merged_logs_small.iloc[0][1]\n"
     ]
    },
    {
     "data": {
      "text/plain": [
       "'PacketResponder <*> type <*> for block blk_<*> type <*> terminating and <*> of data_loss expected. No backup present'"
      ]
     },
     "execution_count": 47,
     "metadata": {},
     "output_type": "execute_result"
    }
   ],
   "source": [
    "tes_log = merged_logs_small.iloc[0][2]\n",
    "test_template = merged_logs_small.iloc[0][1]\n",
    "\n",
    "a = Augment_Template(test_template)\n",
    "a"
   ]
  },
  {
   "cell_type": "code",
   "execution_count": 54,
   "metadata": {},
   "outputs": [
    {
     "name": "stdout",
     "output_type": "stream",
     "text": [
      "<*>\n",
      "<*>\n"
     ]
    }
   ],
   "source": [
    "test_template\n",
    "for placeholder in re.findall(r\"<\\*>\", test_template):\n",
    "    if placeholder == \"<*>\":\n",
    "        print(placeholder)"
   ]
  },
  {
   "cell_type": "code",
   "execution_count": 50,
   "metadata": {},
   "outputs": [
    {
     "data": {
      "text/plain": [
       "'PacketResponder <*> type <*> for block blk_<*> type <*> terminating and <*> of data_loss expected. No backup present'"
      ]
     },
     "execution_count": 50,
     "metadata": {},
     "output_type": "execute_result"
    }
   ],
   "source": [
    "b = Generate_Random_Values(str(a))\n",
    "b"
   ]
  },
  {
   "cell_type": "code",
   "execution_count": null,
   "metadata": {},
   "outputs": [],
   "source": []
  }
 ],
 "metadata": {
  "kernelspec": {
   "display_name": "venv",
   "language": "python",
   "name": "python3"
  },
  "language_info": {
   "codemirror_mode": {
    "name": "ipython",
    "version": 3
   },
   "file_extension": ".py",
   "mimetype": "text/x-python",
   "name": "python",
   "nbconvert_exporter": "python",
   "pygments_lexer": "ipython3",
   "version": "3.9.12"
  }
 },
 "nbformat": 4,
 "nbformat_minor": 2
}
