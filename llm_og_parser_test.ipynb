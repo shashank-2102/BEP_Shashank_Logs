{
 "cells": [
  {
   "cell_type": "code",
   "execution_count": 20,
   "metadata": {},
   "outputs": [],
   "source": [
    "from api_key import get_api_key_jef, get_api_key_sha, get_api_key_sup\n",
    "import google.generativeai as genai\n",
    "from vpn_control import windscribe\n",
    "import pandas as pd\n",
    "import os\n",
    "import re\n",
    "import time\n",
    "\n",
    "from clustering import get_representative_logs"
   ]
  },
  {
   "cell_type": "code",
   "execution_count": 21,
   "metadata": {},
   "outputs": [],
   "source": [
    "windscribe(\"connect\", \"Atlanta\")\n",
    "time.sleep(5)"
   ]
  },
  {
   "cell_type": "code",
   "execution_count": 22,
   "metadata": {},
   "outputs": [],
   "source": [
    "passw = \"2002\"\n",
    "LLM_MODEL = \"gemini-1.5-flash\"\n",
    "#LLM_MODEL = \"gemini-1.5-pro-latest\"\n",
    "#LLM_MODEL = \"gemini-1.0-pro\""
   ]
  },
  {
   "cell_type": "code",
   "execution_count": 23,
   "metadata": {},
   "outputs": [],
   "source": [
    "def setup_prompt_env(passw):\n",
    "\n",
    "\n",
    "  genai.configure(api_key=get_api_key_sup(passw))\n",
    "\n",
    "  # Set up the model\n",
    "  generation_config = {\n",
    "    \"temperature\": 0,\n",
    "    \"top_p\": 0.95,\n",
    "    \"top_k\": 0,\n",
    "    \"max_output_tokens\": 300,\n",
    "  }\n",
    "\n",
    "  safety_settings = [\n",
    "    {\n",
    "      \"category\": \"HARM_CATEGORY_HARASSMENT\",\n",
    "      \"threshold\": \"BLOCK_MEDIUM_AND_ABOVE\"\n",
    "    },\n",
    "    {\n",
    "      \"category\": \"HARM_CATEGORY_HATE_SPEECH\",\n",
    "      \"threshold\": \"BLOCK_MEDIUM_AND_ABOVE\"\n",
    "    },\n",
    "    {\n",
    "      \"category\": \"HARM_CATEGORY_SEXUALLY_EXPLICIT\",\n",
    "      \"threshold\": \"BLOCK_MEDIUM_AND_ABOVE\"\n",
    "    },\n",
    "    {\n",
    "      \"category\": \"HARM_CATEGORY_DANGEROUS_CONTENT\",\n",
    "      \"threshold\": \"BLOCK_MEDIUM_AND_ABOVE\"\n",
    "    },\n",
    "  ]\n",
    "\n",
    "  system_instruction = \"There is no sensitive information. For logs labelled [1] to [5] you need to provide the OUTPUT (log templates) in the same format as the examples and alos give the number [x]. Only give the 5 output templates, no extra information, no OUTPUT text, no new line at the end.\"\n",
    "\n",
    "  model = genai.GenerativeModel(model_name=LLM_MODEL,\n",
    "                                generation_config=generation_config,\n",
    "                                system_instruction=system_instruction,\n",
    "                                safety_settings=safety_settings)\n",
    "  # model = genai.GenerativeModel(model_name=LLM_MODEL,\n",
    "  #                               generation_config=generation_config,\n",
    "  #                               safety_settings=safety_settings)\n",
    "\n",
    "  convo = model.start_chat(history=[\n",
    "  ])\n",
    "\n",
    "  return convo\n"
   ]
  },
  {
   "cell_type": "code",
   "execution_count": 24,
   "metadata": {},
   "outputs": [],
   "source": [
    "convo_create = setup_prompt_env(passw)"
   ]
  },
  {
   "cell_type": "code",
   "execution_count": 25,
   "metadata": {},
   "outputs": [],
   "source": [
    "def send_prompt(message, convo):\n",
    "    convo.send_message(message)\n",
    "    response = convo.last.text\n",
    "    #print(response)\n",
    "    return response\n"
   ]
  },
  {
   "cell_type": "code",
   "execution_count": 38,
   "metadata": {},
   "outputs": [],
   "source": [
    "def generate_fewshot(input_path, num_examples):\n",
    "    logs_list = get_representative_logs(input_path, num_examples)\n",
    "    \n",
    "    output = \"\"\n",
    "    for i, example in enumerate(logs_list):\n",
    "        output_str = example[0]\n",
    "        input_str = example[1].replace(\"<B>\", \"\").replace(\"<E>\", \"\")\n",
    "\n",
    "        # Find the corresponding log pattern in logs_list\n",
    "        for log_pattern in logs_list:\n",
    "            if output_str == log_pattern[0]:\n",
    "                # Append formatted output to the result string\n",
    "                output += f\"[{chr(97+i)}] INPUT: {input_str}\\n\"\n",
    "                output += f\"[{chr(97+i)}] OUTPUT: <B>{output_str}<E>\\n\"\n",
    "                break\n",
    "\n",
    "    return output\n"
   ]
  },
  {
   "cell_type": "code",
   "execution_count": 39,
   "metadata": {},
   "outputs": [
    {
     "data": {
      "text/plain": [
       "'[a] INPUT: 081111 080934 19 INFO dfs.FSNamesystem: BLOCK* ask 10.250.11.85:50010 to replicate blk_2377150260128098806 to datanode(s) 10.251.203.80:50010\\n[a] OUTPUT: <B>BLOCK* ask <*>:<*> to replicate blk_<*> to datanode(s) <*>:<*><E>\\n[b] INPUT: 081109 214043 2561 WARN dfs.DataNode$DataXceiver: 10.250.11.85:50010:Got exception while serving blk_509586258217225674 to /10.251.203.80:50010\\n[b] OUTPUT: <B><*>:<*>:Got exception while serving blk_<*> to /<*>:<E>\\n[c] INPUT: 081109 204722 567 INFO dfs.DataNode$PacketResponder: Received block blk_1234567890123456789 of size 9876543210987654321 from /10.251.203.80 \\n[c] OUTPUT: <B>Received block blk_<*> of size <*> from /<*><E>\\n'"
      ]
     },
     "execution_count": 39,
     "metadata": {},
     "output_type": "execute_result"
    }
   ],
   "source": [
    "a = generate_fewshot(\"data\\TESTparsed_0_generated_logs_COPY.csv\", 3)\n",
    "a"
   ]
  },
  {
   "cell_type": "code",
   "execution_count": 40,
   "metadata": {},
   "outputs": [
    {
     "name": "stdout",
     "output_type": "stream",
     "text": [
      "[a] INPUT: 081111 080934 19 INFO dfs.FSNamesystem: BLOCK* ask 10.250.11.85:50010 to replicate blk_2377150260128098806 to datanode(s) 10.251.203.80:50010\n",
      "[a] OUTPUT: <B>BLOCK* ask <*>:<*> to replicate blk_<*> to datanode(s) <*>:<*><E>\n",
      "[b] INPUT: 081109 214043 2561 WARN dfs.DataNode$DataXceiver: 10.250.11.85:50010:Got exception while serving blk_509586258217225674 to /10.251.203.80:50010\n",
      "[b] OUTPUT: <B><*>:<*>:Got exception while serving blk_<*> to /<*>:<E>\n",
      "[c] INPUT: 081109 204722 567 INFO dfs.DataNode$PacketResponder: Received block blk_1234567890123456789 of size 9876543210987654321 from /10.251.203.80 \n",
      "[c] OUTPUT: <B>Received block blk_<*> of size <*> from /<*><E>\n",
      "\n"
     ]
    }
   ],
   "source": [
    "print(a)"
   ]
  },
  {
   "cell_type": "code",
   "execution_count": 41,
   "metadata": {},
   "outputs": [],
   "source": [
    "fewshot_examples = generate_fewshot(\"data\\TESTparsed_0_generated_logs_COPY.csv\", 3)\n",
    "\n",
    "logs = \"\"\"[1] INPUT: 081109 204005 35 INFO dfs.FSNamesystem: BLOCK* NameSystem.addStoredBlock: blockMap updated: 10.251.73.220:50010 is added to blk_7128370237687728475 size 67108864\n",
    "[2] INPUT: 081109 204015 308 INFO dfs.DataNode$PacketResponder: PacketResponder 2 for block blk_8229193803249955061 terminating\n",
    "[3] INPUT: 081109 204655 556 INFO dfs.DataNode$PacketResponder: Received block blk_3587508140051953248 of size 67108864 from /10.251.42.84\n",
    "[4] INPUT: 081109 204925 673 INFO dfs.DataNode$DataXceiver: Receiving block blk_-5623176793330377570 src: /10.251.75.228:53725 dest: /10.251.75.228:50010\n",
    "[5] INPUT: 081109 213847 2552 INFO dfs.DataNode$DataXceiver: 10.251.194.213:50010 Served block blk_-7724713468912166542 to /10.251.203.80\"\"\""
   ]
  },
  {
   "cell_type": "code",
   "execution_count": 42,
   "metadata": {},
   "outputs": [],
   "source": [
    "def generate_prompt(fewshot, logs):\n",
    "    #print(f\"{fewshot}\\n\\n{logs}\")\n",
    "    return f\"{fewshot}\\n{logs}\"\n"
   ]
  },
  {
   "cell_type": "code",
   "execution_count": 45,
   "metadata": {},
   "outputs": [
    {
     "data": {
      "text/plain": [
       "'[a] INPUT: 081111 080934 19 INFO dfs.FSNamesystem: BLOCK* ask 10.250.11.85:50010 to replicate blk_2377150260128098806 to datanode(s) 10.251.203.80:50010\\n[a] OUTPUT: <B>BLOCK* ask <*>:<*> to replicate blk_<*> to datanode(s) <*>:<*><E>\\n[b] INPUT: 081109 214043 2561 WARN dfs.DataNode$DataXceiver: 10.250.11.85:50010:Got exception while serving blk_509586258217225674 to /10.251.203.80:50010\\n[b] OUTPUT: <B><*>:<*>:Got exception while serving blk_<*> to /<*>:<E>\\n[c] INPUT: 081109 204722 567 INFO dfs.DataNode$PacketResponder: Received block blk_1234567890123456789 of size 9876543210987654321 from /10.251.203.80 \\n[c] OUTPUT: <B>Received block blk_<*> of size <*> from /<*><E>\\n\\n[1] INPUT: 081109 204005 35 INFO dfs.FSNamesystem: BLOCK* NameSystem.addStoredBlock: blockMap updated: 10.251.73.220:50010 is added to blk_7128370237687728475 size 67108864\\n[2] INPUT: 081109 204015 308 INFO dfs.DataNode$PacketResponder: PacketResponder 2 for block blk_8229193803249955061 terminating\\n[3] INPUT: 081109 204655 556 INFO dfs.DataNode$PacketResponder: Received block blk_3587508140051953248 of size 67108864 from /10.251.42.84\\n[4] INPUT: 081109 204925 673 INFO dfs.DataNode$DataXceiver: Receiving block blk_-5623176793330377570 src: /10.251.75.228:53725 dest: /10.251.75.228:50010\\n[5] INPUT: 081109 213847 2552 INFO dfs.DataNode$DataXceiver: 10.251.194.213:50010 Served block blk_-7724713468912166542 to /10.251.203.80'"
      ]
     },
     "execution_count": 45,
     "metadata": {},
     "output_type": "execute_result"
    }
   ],
   "source": [
    "b = generate_prompt(fewshot_examples, logs)\n",
    "b"
   ]
  },
  {
   "cell_type": "code",
   "execution_count": 46,
   "metadata": {},
   "outputs": [
    {
     "name": "stdout",
     "output_type": "stream",
     "text": [
      "[a] INPUT: 081111 080934 19 INFO dfs.FSNamesystem: BLOCK* ask 10.250.11.85:50010 to replicate blk_2377150260128098806 to datanode(s) 10.251.203.80:50010\n",
      "[a] OUTPUT: <B>BLOCK* ask <*>:<*> to replicate blk_<*> to datanode(s) <*>:<*><E>\n",
      "[b] INPUT: 081109 214043 2561 WARN dfs.DataNode$DataXceiver: 10.250.11.85:50010:Got exception while serving blk_509586258217225674 to /10.251.203.80:50010\n",
      "[b] OUTPUT: <B><*>:<*>:Got exception while serving blk_<*> to /<*>:<E>\n",
      "[c] INPUT: 081109 204722 567 INFO dfs.DataNode$PacketResponder: Received block blk_1234567890123456789 of size 9876543210987654321 from /10.251.203.80 \n",
      "[c] OUTPUT: <B>Received block blk_<*> of size <*> from /<*><E>\n",
      "\n",
      "[1] INPUT: 081109 204005 35 INFO dfs.FSNamesystem: BLOCK* NameSystem.addStoredBlock: blockMap updated: 10.251.73.220:50010 is added to blk_7128370237687728475 size 67108864\n",
      "[2] INPUT: 081109 204015 308 INFO dfs.DataNode$PacketResponder: PacketResponder 2 for block blk_8229193803249955061 terminating\n",
      "[3] INPUT: 081109 204655 556 INFO dfs.DataNode$PacketResponder: Received block blk_3587508140051953248 of size 67108864 from /10.251.42.84\n",
      "[4] INPUT: 081109 204925 673 INFO dfs.DataNode$DataXceiver: Receiving block blk_-5623176793330377570 src: /10.251.75.228:53725 dest: /10.251.75.228:50010\n",
      "[5] INPUT: 081109 213847 2552 INFO dfs.DataNode$DataXceiver: 10.251.194.213:50010 Served block blk_-7724713468912166542 to /10.251.203.80\n"
     ]
    }
   ],
   "source": [
    "print(b)"
   ]
  },
  {
   "cell_type": "code",
   "execution_count": 78,
   "metadata": {},
   "outputs": [],
   "source": [
    "#print(generate_prompt(fewshot_examples, logs))"
   ]
  },
  {
   "cell_type": "code",
   "execution_count": 79,
   "metadata": {},
   "outputs": [],
   "source": [
    "#send_prompt(generate_prompt(fewshot_examples, logs), convo_create)"
   ]
  },
  {
   "cell_type": "code",
   "execution_count": 80,
   "metadata": {},
   "outputs": [
    {
     "data": {
      "text/html": [
       "<div>\n",
       "<style scoped>\n",
       "    .dataframe tbody tr th:only-of-type {\n",
       "        vertical-align: middle;\n",
       "    }\n",
       "\n",
       "    .dataframe tbody tr th {\n",
       "        vertical-align: top;\n",
       "    }\n",
       "\n",
       "    .dataframe thead th {\n",
       "        text-align: right;\n",
       "    }\n",
       "</style>\n",
       "<table border=\"1\" class=\"dataframe\">\n",
       "  <thead>\n",
       "    <tr style=\"text-align: right;\">\n",
       "      <th></th>\n",
       "      <th>EventId</th>\n",
       "      <th>LogTemplate</th>\n",
       "      <th>Log</th>\n",
       "    </tr>\n",
       "  </thead>\n",
       "  <tbody>\n",
       "    <tr>\n",
       "      <th>0</th>\n",
       "      <td>E1</td>\n",
       "      <td>&lt;B&gt;&lt;*&gt;:&lt;*&gt; Served block blk_&lt;*&gt; to /&lt;*&gt; &lt;E&gt;</td>\n",
       "      <td>&lt;B&gt;10.250.11.85:50010 Served block blk_2377150...</td>\n",
       "    </tr>\n",
       "    <tr>\n",
       "      <th>1</th>\n",
       "      <td>E1</td>\n",
       "      <td>&lt;B&gt;&lt;*&gt;:&lt;*&gt; Served block blk_&lt;*&gt; to /&lt;*&gt; &lt;E&gt;</td>\n",
       "      <td>&lt;B&gt;10.251.203.80:50010 Served block blk_788894...</td>\n",
       "    </tr>\n",
       "    <tr>\n",
       "      <th>2</th>\n",
       "      <td>E1</td>\n",
       "      <td>&lt;B&gt;&lt;*&gt;:&lt;*&gt; Served block blk_&lt;*&gt; to /&lt;*&gt; &lt;E&gt;</td>\n",
       "      <td>&lt;B&gt;10.250.11.85:50010 Served block blk_2377150...</td>\n",
       "    </tr>\n",
       "    <tr>\n",
       "      <th>3</th>\n",
       "      <td>E1</td>\n",
       "      <td>&lt;B&gt;&lt;*&gt;:&lt;*&gt; Served block blk_&lt;*&gt; to /&lt;*&gt; &lt;E&gt;</td>\n",
       "      <td>&lt;B&gt;10.251.203.80:50010 Served block blk_788894...</td>\n",
       "    </tr>\n",
       "    <tr>\n",
       "      <th>4</th>\n",
       "      <td>E1</td>\n",
       "      <td>&lt;B&gt;&lt;*&gt;:&lt;*&gt; Served block blk_&lt;*&gt; to /&lt;*&gt; &lt;E&gt;</td>\n",
       "      <td>&lt;B&gt;10.250.11.85:50010 Served block blk_2377150...</td>\n",
       "    </tr>\n",
       "    <tr>\n",
       "      <th>5</th>\n",
       "      <td>E1</td>\n",
       "      <td>&lt;B&gt;&lt;*&gt;:&lt;*&gt; Served block blk_&lt;*&gt; to /&lt;*&gt; &lt;E&gt;</td>\n",
       "      <td>&lt;B&gt;10.251.203.80:50010 Served block blk_788894...</td>\n",
       "    </tr>\n",
       "    <tr>\n",
       "      <th>6</th>\n",
       "      <td>E1</td>\n",
       "      <td>&lt;B&gt;&lt;*&gt;:&lt;*&gt; Served block blk_&lt;*&gt; to /&lt;*&gt; &lt;E&gt;</td>\n",
       "      <td>&lt;B&gt;10.250.11.85:50010 Served block blk_2377150...</td>\n",
       "    </tr>\n",
       "    <tr>\n",
       "      <th>7</th>\n",
       "      <td>E1</td>\n",
       "      <td>&lt;B&gt;&lt;*&gt;:&lt;*&gt; Served block blk_&lt;*&gt; to /&lt;*&gt; &lt;E&gt;</td>\n",
       "      <td>&lt;B&gt;10.251.203.80:50010 Served block blk_788894...</td>\n",
       "    </tr>\n",
       "    <tr>\n",
       "      <th>8</th>\n",
       "      <td>E1</td>\n",
       "      <td>&lt;B&gt;&lt;*&gt;:&lt;*&gt; Served block blk_&lt;*&gt; to /&lt;*&gt; &lt;E&gt;</td>\n",
       "      <td>&lt;B&gt;10.250.11.85:50010 Served block blk_2377150...</td>\n",
       "    </tr>\n",
       "    <tr>\n",
       "      <th>9</th>\n",
       "      <td>E1</td>\n",
       "      <td>&lt;B&gt;&lt;*&gt;:&lt;*&gt; Served block blk_&lt;*&gt; to /&lt;*&gt; &lt;E&gt;</td>\n",
       "      <td>&lt;B&gt;10.251.203.80:50010 Served block blk_788894...</td>\n",
       "    </tr>\n",
       "    <tr>\n",
       "      <th>10</th>\n",
       "      <td>E1</td>\n",
       "      <td>&lt;B&gt;&lt;*&gt;:&lt;*&gt; Served block blk_&lt;*&gt; to /&lt;*&gt; &lt;E&gt;</td>\n",
       "      <td>&lt;B&gt;10.250.11.85:50010 Served block blk_2377150...</td>\n",
       "    </tr>\n",
       "    <tr>\n",
       "      <th>11</th>\n",
       "      <td>E1</td>\n",
       "      <td>&lt;B&gt;&lt;*&gt;:&lt;*&gt; Served block blk_&lt;*&gt; to /&lt;*&gt; &lt;E&gt;</td>\n",
       "      <td>&lt;B&gt;10.251.203.80:50010 Served block blk_788894...</td>\n",
       "    </tr>\n",
       "    <tr>\n",
       "      <th>12</th>\n",
       "      <td>E1</td>\n",
       "      <td>&lt;B&gt;&lt;*&gt;:&lt;*&gt; Served block blk_&lt;*&gt; to /&lt;*&gt; &lt;E&gt;</td>\n",
       "      <td>&lt;B&gt;10.250.11.85:50010 Served block blk_2377150...</td>\n",
       "    </tr>\n",
       "    <tr>\n",
       "      <th>13</th>\n",
       "      <td>E1</td>\n",
       "      <td>&lt;B&gt;&lt;*&gt;:&lt;*&gt; Served block blk_&lt;*&gt; to /&lt;*&gt; &lt;E&gt;</td>\n",
       "      <td>&lt;B&gt;10.251.203.80:50010 Served block blk_788894...</td>\n",
       "    </tr>\n",
       "    <tr>\n",
       "      <th>14</th>\n",
       "      <td>E1</td>\n",
       "      <td>&lt;B&gt;&lt;*&gt;:&lt;*&gt; Served block blk_&lt;*&gt; to /&lt;*&gt; &lt;E&gt;</td>\n",
       "      <td>&lt;B&gt;10.250.11.85:50010 Served block blk_2377150...</td>\n",
       "    </tr>\n",
       "  </tbody>\n",
       "</table>\n",
       "</div>"
      ],
      "text/plain": [
       "   EventId                                  LogTemplate  \\\n",
       "0       E1  <B><*>:<*> Served block blk_<*> to /<*> <E>   \n",
       "1       E1  <B><*>:<*> Served block blk_<*> to /<*> <E>   \n",
       "2       E1  <B><*>:<*> Served block blk_<*> to /<*> <E>   \n",
       "3       E1  <B><*>:<*> Served block blk_<*> to /<*> <E>   \n",
       "4       E1  <B><*>:<*> Served block blk_<*> to /<*> <E>   \n",
       "5       E1  <B><*>:<*> Served block blk_<*> to /<*> <E>   \n",
       "6       E1  <B><*>:<*> Served block blk_<*> to /<*> <E>   \n",
       "7       E1  <B><*>:<*> Served block blk_<*> to /<*> <E>   \n",
       "8       E1  <B><*>:<*> Served block blk_<*> to /<*> <E>   \n",
       "9       E1  <B><*>:<*> Served block blk_<*> to /<*> <E>   \n",
       "10      E1  <B><*>:<*> Served block blk_<*> to /<*> <E>   \n",
       "11      E1  <B><*>:<*> Served block blk_<*> to /<*> <E>   \n",
       "12      E1  <B><*>:<*> Served block blk_<*> to /<*> <E>   \n",
       "13      E1  <B><*>:<*> Served block blk_<*> to /<*> <E>   \n",
       "14      E1  <B><*>:<*> Served block blk_<*> to /<*> <E>   \n",
       "\n",
       "                                                  Log  \n",
       "0   <B>10.250.11.85:50010 Served block blk_2377150...  \n",
       "1   <B>10.251.203.80:50010 Served block blk_788894...  \n",
       "2   <B>10.250.11.85:50010 Served block blk_2377150...  \n",
       "3   <B>10.251.203.80:50010 Served block blk_788894...  \n",
       "4   <B>10.250.11.85:50010 Served block blk_2377150...  \n",
       "5   <B>10.251.203.80:50010 Served block blk_788894...  \n",
       "6   <B>10.250.11.85:50010 Served block blk_2377150...  \n",
       "7   <B>10.251.203.80:50010 Served block blk_788894...  \n",
       "8   <B>10.250.11.85:50010 Served block blk_2377150...  \n",
       "9   <B>10.251.203.80:50010 Served block blk_788894...  \n",
       "10  <B>10.250.11.85:50010 Served block blk_2377150...  \n",
       "11  <B>10.251.203.80:50010 Served block blk_788894...  \n",
       "12  <B>10.250.11.85:50010 Served block blk_2377150...  \n",
       "13  <B>10.251.203.80:50010 Served block blk_788894...  \n",
       "14  <B>10.250.11.85:50010 Served block blk_2377150...  "
      ]
     },
     "execution_count": 80,
     "metadata": {},
     "output_type": "execute_result"
    }
   ],
   "source": [
    "tmep = pd.read_csv(\"data/0_generated_logs_COPY.csv\")\n",
    "df = tmep[:15]\n",
    "df"
   ]
  },
  {
   "cell_type": "code",
   "execution_count": 81,
   "metadata": {},
   "outputs": [],
   "source": [
    "\n",
    "\n",
    "def clean_logs(df):\n",
    "    # Define the pattern to remove <B>, <E>, spaces after <B>, spaces before <E>, and \"OUTPUT: \"\n",
    "    pattern = r'OUTPUT:\\s*|<B>\\s*|\\s*<E>'\n",
    "    \n",
    "    # Apply the pattern to the 'LogTemplate' and 'LLMOutput' columns\n",
    "    df.loc[:, 'LogTemplate'] = df['LogTemplate'].apply(lambda x: re.sub(pattern, '', x))\n",
    "    df.loc[:, 'LLMOutput'] = df['LLMOutput'].apply(lambda x: re.sub(pattern, '', x))\n",
    "\n"
   ]
  },
  {
   "cell_type": "code",
   "execution_count": 82,
   "metadata": {},
   "outputs": [],
   "source": [
    "def process_logs(input_path, fewshot_examples):\n",
    "    df = pd.read_csv(input_path)\n",
    "    outputs = []\n",
    "    for i in range(0, len(df), 5):\n",
    "        time.sleep(5)\n",
    "        chunk = df.iloc[i:i+5]\n",
    "        logs = \"\\n\".join([f\"[{idx % 5 + 1}] INPUT: {row['Log']}\" for idx, row in chunk.iterrows()])\n",
    "        prompt = generate_prompt(fewshot_examples, logs)\n",
    "        output = send_prompt(prompt, convo_create)\n",
    "        #print(output)\n",
    "        # dealing with errenous newlines\n",
    "        llm_output_lines = [line.strip() for line in output.split(\"\\n\") if line.strip()]\n",
    "\n",
    "        # add to lst\n",
    "        for line in llm_output_lines:\n",
    "            parts = line.split(\" \", 1)\n",
    "            if len(parts) > 1:\n",
    "                outputs.append(parts[1])\n",
    "            else:\n",
    "                outputs.append(\"\")  # empty str to handle error\n",
    "    \n",
    "    # Add the outputs to the dataframe\n",
    "    df.loc[:, \"LLMOutput\"] = outputs\n",
    "    clean_logs(df)\n",
    "    df.to_csv(f\"{input[:5]}parsed/TESTparsed_{input[5:]}\", index=False)\n",
    "    #df.to_csv(f\"Parsed.csv\", index=False)\n",
    "    return df\n"
   ]
  },
  {
   "cell_type": "code",
   "execution_count": 83,
   "metadata": {},
   "outputs": [],
   "source": [
    "#df_with_outputs = process_logs(df, fewshot_examples)\n",
    "df_with_outputs = process_logs(\"data/0_generated_logs_COPY.csv\", fewshot_examples)"
   ]
  },
  {
   "cell_type": "code",
   "execution_count": 84,
   "metadata": {},
   "outputs": [
    {
     "data": {
      "text/html": [
       "<div>\n",
       "<style scoped>\n",
       "    .dataframe tbody tr th:only-of-type {\n",
       "        vertical-align: middle;\n",
       "    }\n",
       "\n",
       "    .dataframe tbody tr th {\n",
       "        vertical-align: top;\n",
       "    }\n",
       "\n",
       "    .dataframe thead th {\n",
       "        text-align: right;\n",
       "    }\n",
       "</style>\n",
       "<table border=\"1\" class=\"dataframe\">\n",
       "  <thead>\n",
       "    <tr style=\"text-align: right;\">\n",
       "      <th></th>\n",
       "      <th>EventId</th>\n",
       "      <th>LogTemplate</th>\n",
       "      <th>Log</th>\n",
       "      <th>LLMOutput</th>\n",
       "    </tr>\n",
       "  </thead>\n",
       "  <tbody>\n",
       "    <tr>\n",
       "      <th>0</th>\n",
       "      <td>E1</td>\n",
       "      <td>&lt;*&gt;:&lt;*&gt; Served block blk_&lt;*&gt; to /&lt;*&gt;</td>\n",
       "      <td>&lt;B&gt;10.250.11.85:50010 Served block blk_2377150...</td>\n",
       "      <td>&lt;*&gt; Served block blk_&lt;*&gt; to &lt;*&gt;</td>\n",
       "    </tr>\n",
       "    <tr>\n",
       "      <th>1</th>\n",
       "      <td>E1</td>\n",
       "      <td>&lt;*&gt;:&lt;*&gt; Served block blk_&lt;*&gt; to /&lt;*&gt;</td>\n",
       "      <td>&lt;B&gt;10.251.203.80:50010 Served block blk_788894...</td>\n",
       "      <td>&lt;*&gt; Served block blk_&lt;*&gt; to &lt;*&gt;</td>\n",
       "    </tr>\n",
       "    <tr>\n",
       "      <th>2</th>\n",
       "      <td>E1</td>\n",
       "      <td>&lt;*&gt;:&lt;*&gt; Served block blk_&lt;*&gt; to /&lt;*&gt;</td>\n",
       "      <td>&lt;B&gt;10.250.11.85:50010 Served block blk_2377150...</td>\n",
       "      <td>&lt;*&gt; Served block blk_&lt;*&gt; to &lt;*&gt;</td>\n",
       "    </tr>\n",
       "    <tr>\n",
       "      <th>3</th>\n",
       "      <td>E1</td>\n",
       "      <td>&lt;*&gt;:&lt;*&gt; Served block blk_&lt;*&gt; to /&lt;*&gt;</td>\n",
       "      <td>&lt;B&gt;10.251.203.80:50010 Served block blk_788894...</td>\n",
       "      <td>&lt;*&gt; Served block blk_&lt;*&gt; to &lt;*&gt;</td>\n",
       "    </tr>\n",
       "    <tr>\n",
       "      <th>4</th>\n",
       "      <td>E1</td>\n",
       "      <td>&lt;*&gt;:&lt;*&gt; Served block blk_&lt;*&gt; to /&lt;*&gt;</td>\n",
       "      <td>&lt;B&gt;10.250.11.85:50010 Served block blk_2377150...</td>\n",
       "      <td>&lt;*&gt; Served block blk_&lt;*&gt; to &lt;*&gt;</td>\n",
       "    </tr>\n",
       "    <tr>\n",
       "      <th>...</th>\n",
       "      <td>...</td>\n",
       "      <td>...</td>\n",
       "      <td>...</td>\n",
       "      <td>...</td>\n",
       "    </tr>\n",
       "    <tr>\n",
       "      <th>552</th>\n",
       "      <td>E14</td>\n",
       "      <td>Verification succeeded for blk_&lt;*&gt;</td>\n",
       "      <td>&lt;B&gt;Verification succeeded for blk_321098765432...</td>\n",
       "      <td>Verification succeeded for blk_&lt;*&gt;</td>\n",
       "    </tr>\n",
       "    <tr>\n",
       "      <th>553</th>\n",
       "      <td>E14</td>\n",
       "      <td>Verification succeeded for blk_&lt;*&gt;</td>\n",
       "      <td>&lt;B&gt;Verification succeeded for blk_890123456789...</td>\n",
       "      <td>Verification succeeded for blk_&lt;*&gt;</td>\n",
       "    </tr>\n",
       "    <tr>\n",
       "      <th>554</th>\n",
       "      <td>E14</td>\n",
       "      <td>Verification succeeded for blk_&lt;*&gt;</td>\n",
       "      <td>&lt;B&gt;Verification succeeded for blk_210987654321...</td>\n",
       "      <td>Verification succeeded for blk_&lt;*&gt;</td>\n",
       "    </tr>\n",
       "    <tr>\n",
       "      <th>555</th>\n",
       "      <td>E14</td>\n",
       "      <td>Verification succeeded for blk_&lt;*&gt;</td>\n",
       "      <td>&lt;B&gt;Verification succeeded for blk_901234567890...</td>\n",
       "      <td>Verification succeeded for blk_&lt;*&gt;</td>\n",
       "    </tr>\n",
       "    <tr>\n",
       "      <th>556</th>\n",
       "      <td>E14</td>\n",
       "      <td>Verification succeeded for blk_&lt;*&gt;</td>\n",
       "      <td>&lt;B&gt;Verification succeeded for blk_109876543210...</td>\n",
       "      <td>Verification succeeded for blk_&lt;*&gt;</td>\n",
       "    </tr>\n",
       "  </tbody>\n",
       "</table>\n",
       "<p>557 rows × 4 columns</p>\n",
       "</div>"
      ],
      "text/plain": [
       "    EventId                           LogTemplate  \\\n",
       "0        E1  <*>:<*> Served block blk_<*> to /<*>   \n",
       "1        E1  <*>:<*> Served block blk_<*> to /<*>   \n",
       "2        E1  <*>:<*> Served block blk_<*> to /<*>   \n",
       "3        E1  <*>:<*> Served block blk_<*> to /<*>   \n",
       "4        E1  <*>:<*> Served block blk_<*> to /<*>   \n",
       "..      ...                                   ...   \n",
       "552     E14    Verification succeeded for blk_<*>   \n",
       "553     E14    Verification succeeded for blk_<*>   \n",
       "554     E14    Verification succeeded for blk_<*>   \n",
       "555     E14    Verification succeeded for blk_<*>   \n",
       "556     E14    Verification succeeded for blk_<*>   \n",
       "\n",
       "                                                   Log  \\\n",
       "0    <B>10.250.11.85:50010 Served block blk_2377150...   \n",
       "1    <B>10.251.203.80:50010 Served block blk_788894...   \n",
       "2    <B>10.250.11.85:50010 Served block blk_2377150...   \n",
       "3    <B>10.251.203.80:50010 Served block blk_788894...   \n",
       "4    <B>10.250.11.85:50010 Served block blk_2377150...   \n",
       "..                                                 ...   \n",
       "552  <B>Verification succeeded for blk_321098765432...   \n",
       "553  <B>Verification succeeded for blk_890123456789...   \n",
       "554  <B>Verification succeeded for blk_210987654321...   \n",
       "555  <B>Verification succeeded for blk_901234567890...   \n",
       "556  <B>Verification succeeded for blk_109876543210...   \n",
       "\n",
       "                              LLMOutput  \n",
       "0       <*> Served block blk_<*> to <*>  \n",
       "1       <*> Served block blk_<*> to <*>  \n",
       "2       <*> Served block blk_<*> to <*>  \n",
       "3       <*> Served block blk_<*> to <*>  \n",
       "4       <*> Served block blk_<*> to <*>  \n",
       "..                                  ...  \n",
       "552  Verification succeeded for blk_<*>  \n",
       "553  Verification succeeded for blk_<*>  \n",
       "554  Verification succeeded for blk_<*>  \n",
       "555  Verification succeeded for blk_<*>  \n",
       "556  Verification succeeded for blk_<*>  \n",
       "\n",
       "[557 rows x 4 columns]"
      ]
     },
     "execution_count": 84,
     "metadata": {},
     "output_type": "execute_result"
    }
   ],
   "source": [
    "df_with_outputs"
   ]
  },
  {
   "cell_type": "code",
   "execution_count": 85,
   "metadata": {},
   "outputs": [],
   "source": [
    "ooo = df_with_outputs.copy()"
   ]
  },
  {
   "cell_type": "code",
   "execution_count": 86,
   "metadata": {},
   "outputs": [],
   "source": [
    "# Calculate the difference between LogTemplate and LLMOutput\n",
    "ooo['Difference'] = ooo.apply(lambda row: set(row['LogTemplate'].split()) - set(row['LLMOutput'].split()), axis=1)\n",
    "\n",
    "# Convert the set difference back to a string for readability\n",
    "ooo['Difference'] = ooo['Difference'].apply(lambda x: ' '.join(x))"
   ]
  },
  {
   "cell_type": "code",
   "execution_count": 87,
   "metadata": {},
   "outputs": [
    {
     "data": {
      "text/plain": [
       "0     /<*> <*>:<*>\n",
       "1     /<*> <*>:<*>\n",
       "2     /<*> <*>:<*>\n",
       "3     /<*> <*>:<*>\n",
       "4     /<*> <*>:<*>\n",
       "5     /<*> <*>:<*>\n",
       "6     /<*> <*>:<*>\n",
       "7     /<*> <*>:<*>\n",
       "8     /<*> <*>:<*>\n",
       "9     /<*> <*>:<*>\n",
       "10    /<*> <*>:<*>\n",
       "11    /<*> <*>:<*>\n",
       "12    /<*> <*>:<*>\n",
       "13    /<*> <*>:<*>\n",
       "14    /<*> <*>:<*>\n",
       "15    /<*> <*>:<*>\n",
       "16    /<*> <*>:<*>\n",
       "17    /<*> <*>:<*>\n",
       "18    /<*> <*>:<*>\n",
       "19    /<*> <*>:<*>\n",
       "20    /<*> <*>:<*>\n",
       "21    /<*> <*>:<*>\n",
       "22    /<*> <*>:<*>\n",
       "23    /<*> <*>:<*>\n",
       "24    /<*> <*>:<*>\n",
       "25    /<*> <*>:<*>\n",
       "26    /<*> <*>:<*>\n",
       "27    /<*> <*>:<*>\n",
       "28    /<*> <*>:<*>\n",
       "29    /<*> <*>:<*>\n",
       "30    /<*> <*>:<*>\n",
       "31    /<*> <*>:<*>\n",
       "32    /<*> <*>:<*>\n",
       "33    /<*> <*>:<*>\n",
       "34    /<*> <*>:<*>\n",
       "35    /<*> <*>:<*>\n",
       "36    /<*> <*>:<*>\n",
       "37    /<*> <*>:<*>\n",
       "38    /<*> <*>:<*>\n",
       "39    /<*> <*>:<*>\n",
       "40    /<*> <*>:<*>\n",
       "41    /<*> <*>:<*>\n",
       "42    /<*> <*>:<*>\n",
       "43    /<*> <*>:<*>\n",
       "44    /<*> <*>:<*>\n",
       "45    /<*> <*>:<*>\n",
       "46    /<*> <*>:<*>\n",
       "47    /<*> <*>:<*>\n",
       "48    /<*> <*>:<*>\n",
       "49    /<*> <*>:<*>\n",
       "Name: Difference, dtype: object"
      ]
     },
     "execution_count": 87,
     "metadata": {},
     "output_type": "execute_result"
    }
   ],
   "source": [
    "ooo[\"Difference\"].head(50)"
   ]
  },
  {
   "cell_type": "code",
   "execution_count": 88,
   "metadata": {},
   "outputs": [
    {
     "data": {
      "text/plain": [
       "0     /<*> <*>:<*>\n",
       "1     /<*> <*>:<*>\n",
       "2     /<*> <*>:<*>\n",
       "3     /<*> <*>:<*>\n",
       "4     /<*> <*>:<*>\n",
       "5     /<*> <*>:<*>\n",
       "6     /<*> <*>:<*>\n",
       "7     /<*> <*>:<*>\n",
       "8     /<*> <*>:<*>\n",
       "9     /<*> <*>:<*>\n",
       "10    /<*> <*>:<*>\n",
       "11    /<*> <*>:<*>\n",
       "12    /<*> <*>:<*>\n",
       "13    /<*> <*>:<*>\n",
       "14    /<*> <*>:<*>\n",
       "15    /<*> <*>:<*>\n",
       "16    /<*> <*>:<*>\n",
       "17    /<*> <*>:<*>\n",
       "18    /<*> <*>:<*>\n",
       "19    /<*> <*>:<*>\n",
       "20    /<*> <*>:<*>\n",
       "21    /<*> <*>:<*>\n",
       "22    /<*> <*>:<*>\n",
       "23    /<*> <*>:<*>\n",
       "24    /<*> <*>:<*>\n",
       "25    /<*> <*>:<*>\n",
       "26    /<*> <*>:<*>\n",
       "27    /<*> <*>:<*>\n",
       "28    /<*> <*>:<*>\n",
       "29    /<*> <*>:<*>\n",
       "30    /<*> <*>:<*>\n",
       "31    /<*> <*>:<*>\n",
       "32    /<*> <*>:<*>\n",
       "33    /<*> <*>:<*>\n",
       "34    /<*> <*>:<*>\n",
       "35    /<*> <*>:<*>\n",
       "36    /<*> <*>:<*>\n",
       "37    /<*> <*>:<*>\n",
       "38    /<*> <*>:<*>\n",
       "39    /<*> <*>:<*>\n",
       "40    /<*> <*>:<*>\n",
       "41    /<*> <*>:<*>\n",
       "42    /<*> <*>:<*>\n",
       "43    /<*> <*>:<*>\n",
       "44    /<*> <*>:<*>\n",
       "45    /<*> <*>:<*>\n",
       "46    /<*> <*>:<*>\n",
       "47    /<*> <*>:<*>\n",
       "48    /<*> <*>:<*>\n",
       "49    /<*> <*>:<*>\n",
       "Name: Difference, dtype: object"
      ]
     },
     "execution_count": 88,
     "metadata": {},
     "output_type": "execute_result"
    }
   ],
   "source": [
    "ooo[\"Difference\"].head(50).tail(50)"
   ]
  },
  {
   "cell_type": "code",
   "execution_count": 89,
   "metadata": {},
   "outputs": [
    {
     "ename": "NameError",
     "evalue": "name 'aa' is not defined",
     "output_type": "error",
     "traceback": [
      "\u001b[1;31m---------------------------------------------------------------------------\u001b[0m",
      "\u001b[1;31mNameError\u001b[0m                                 Traceback (most recent call last)",
      "Cell \u001b[1;32mIn[89], line 1\u001b[0m\n\u001b[1;32m----> 1\u001b[0m \u001b[43maa\u001b[49m\n\u001b[0;32m      2\u001b[0m \u001b[38;5;66;03m#windscribe(\"disconnect\")\u001b[39;00m\n",
      "\u001b[1;31mNameError\u001b[0m: name 'aa' is not defined"
     ]
    }
   ],
   "source": [
    "aa\n",
    "#windscribe(\"disconnect\")"
   ]
  }
 ],
 "metadata": {
  "kernelspec": {
   "display_name": "venv",
   "language": "python",
   "name": "python3"
  },
  "language_info": {
   "codemirror_mode": {
    "name": "ipython",
    "version": 3
   },
   "file_extension": ".py",
   "mimetype": "text/x-python",
   "name": "python",
   "nbconvert_exporter": "python",
   "pygments_lexer": "ipython3",
   "version": "3.9.12"
  }
 },
 "nbformat": 4,
 "nbformat_minor": 2
}
