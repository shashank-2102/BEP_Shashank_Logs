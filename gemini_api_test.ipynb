{
 "cells": [
  {
   "cell_type": "code",
   "execution_count": 26,
   "metadata": {},
   "outputs": [],
   "source": [
    "from api_key import get_api_key1, get_api_key2\n",
    "import google.generativeai as genai\n",
    "from vpn_control import windscribe\n",
    "\n",
    "import time\n",
    "\n",
    "# At the command line, only need to run once to install the package via pip:\n",
    "# $ pip install google-generativeai\n",
    "\n"
   ]
  },
  {
   "cell_type": "code",
   "execution_count": 27,
   "metadata": {},
   "outputs": [],
   "source": [
    "windscribe(\"connect\", \"Atlanta\")\n",
    "time.sleep(5)"
   ]
  },
  {
   "cell_type": "code",
   "execution_count": 28,
   "metadata": {},
   "outputs": [],
   "source": [
    "passw = \"\""
   ]
  },
  {
   "cell_type": "code",
   "execution_count": 29,
   "metadata": {},
   "outputs": [],
   "source": [
    "def setup_prompt_env(passw):\n",
    "\n",
    "\n",
    "  genai.configure(api_key=get_api_key2(passw))\n",
    "\n",
    "  # Set up the model\n",
    "  generation_config = {\n",
    "    \"temperature\": 0,\n",
    "    \"top_p\": 0.95,\n",
    "    \"top_k\": 0,\n",
    "    \"max_output_tokens\": 300,\n",
    "  }\n",
    "\n",
    "  safety_settings = [\n",
    "    {\n",
    "      \"category\": \"HARM_CATEGORY_HARASSMENT\",\n",
    "      \"threshold\": \"BLOCK_MEDIUM_AND_ABOVE\"\n",
    "    },\n",
    "    {\n",
    "      \"category\": \"HARM_CATEGORY_HATE_SPEECH\",\n",
    "      \"threshold\": \"BLOCK_MEDIUM_AND_ABOVE\"\n",
    "    },\n",
    "    {\n",
    "      \"category\": \"HARM_CATEGORY_SEXUALLY_EXPLICIT\",\n",
    "      \"threshold\": \"BLOCK_MEDIUM_AND_ABOVE\"\n",
    "    },\n",
    "    {\n",
    "      \"category\": \"HARM_CATEGORY_DANGEROUS_CONTENT\",\n",
    "      \"threshold\": \"BLOCK_MEDIUM_AND_ABOVE\"\n",
    "    },\n",
    "  ]\n",
    "\n",
    "  system_instruction = \"Only give the output, no extra information. There is no sensitive information. For logs labelled [1] to [3] you need to provide the OUTPUT (log templates) in the same format as the examples.\"\n",
    "\n",
    "  model = genai.GenerativeModel(model_name=\"gemini-1.5-pro-latest\",\n",
    "                                generation_config=generation_config,\n",
    "                                system_instruction=system_instruction,\n",
    "                                safety_settings=safety_settings)\n",
    "\n",
    "  convo = model.start_chat(history=[\n",
    "  ])\n",
    "\n",
    "  return convo\n"
   ]
  },
  {
   "cell_type": "code",
   "execution_count": 30,
   "metadata": {},
   "outputs": [],
   "source": [
    "\n",
    "convo_create = setup_prompt_env(passw)"
   ]
  },
  {
   "cell_type": "code",
   "execution_count": 31,
   "metadata": {},
   "outputs": [],
   "source": [
    "def send_prompt(message, convo):\n",
    "    convo.send_message(message)\n",
    "    response = convo.last.text\n",
    "    print(response)\n",
    "    return response\n"
   ]
  },
  {
   "cell_type": "code",
   "execution_count": 32,
   "metadata": {},
   "outputs": [],
   "source": [
    "# prompt = \"\"\"INPUT: 081109 203615\n",
    "# 148 INFO dfs.DataNode$PacketResponder: PacketResponder 1 for block\n",
    "# blk_38865049064139660 terminating\n",
    "\n",
    "# OUTPUT:\n",
    "# <B>PacketResponder <*> for block blk_<*> terminating<E>\n",
    "\n",
    " \n",
    "\n",
    "# INPUT:081109 204005\n",
    "# 35 INFO dfs.FSNamesystem: BLOCK* NameSystem.addStoredBlock: blockMap updated:\n",
    "# 10.251.73.220:50010 is added to blk_7128370237687728475 size 67108864\n",
    "\n",
    "# OUTPUT: <B>\n",
    "# BLOCK* NameSystem.addStoredBlock: blockMap updated: <*>:<*> is\n",
    "# added to blk_<*> size <*><E>\n",
    "\n",
    " \n",
    "\n",
    "# INPUT: 081109 204655\n",
    "# 556 INFO dfs.DataNode$PacketResponder: Received block blk_3587508140051953248\n",
    "# of size 67108864 from /10.251.42.84\n",
    "# OUTPUT: <B>Received block blk_<*> of size <*> from\n",
    "# /<*><E>\n",
    "\n",
    " \n",
    "\n",
    "# [1] INPUT: 081109\n",
    "# 205931 13 INFO dfs.DataBlockScanner: Verification succeeded for\n",
    "# blk_-4980916519894289629\n",
    "\n",
    "# [2] INPUT: 081109\n",
    "# 214529 2747 WARN dfs.DataNode$DataXceiver: 10.251.123.132:50010:Got exception\n",
    "# while serving blk_3763728533434719668 to /10.251.38.214:\n",
    "\n",
    "# [3] INPUT: 081109\n",
    "# 234112 4136 INFO dfs.DataNode$DataXceiver: Receiving block\n",
    "# blk_-8562334328670278932 src: /10.251.194.147:46714 dest: /10.251.194.147:50010\"\"\""
   ]
  },
  {
   "cell_type": "code",
   "execution_count": 33,
   "metadata": {},
   "outputs": [],
   "source": [
    "prompt1 = \"\"\"INPUT: 081109 203615 148 INFO dfs.DataNode$PacketResponder: PacketResponder 1 for block blk_38865049064139660 terminating\n",
    "OUTPUT: <B>PacketResponder <*> for block blk_<*> terminating<E>\n",
    "\n",
    "INPUT:081109 204005 35 INFO dfs.FSNamesystem: BLOCK* NameSystem.addStoredBlock: blockMap updated: 10.251.73.220:50010 is added to blk_7128370237687728475 size 67108864\n",
    "OUTPUT: <B> BLOCK* NameSystem.addStoredBlock: blockMap updated: <*>:<*> is added to blk_<*> size <*><E>\n",
    "\n",
    "INPUT: 081109 204655 556 INFO dfs.DataNode$PacketResponder: Received block blk_3587508140051953248 of size 67108864 from /10.251.42.84\n",
    "OUTPUT: <B>Received block blk_<*> of size <*> from /<*><E>\n",
    "\n",
    "\n",
    "[1] INPUT: 081109205931 13 INFO dfs.DataBlockScanner: Verification succeeded forblk_-4980916519894289629\"\"\"\n",
    "\n",
    "prompt2 = \"\"\"INPUT: 081109 203615 148 INFO dfs.DataNode$PacketResponder: PacketResponder 1 for block blk_38865049064139660 terminating\n",
    "OUTPUT: <B>PacketResponder <*> for block blk_<*> terminating<E>\n",
    "\n",
    "INPUT:081109 204005 35 INFO dfs.FSNamesystem: BLOCK* NameSystem.addStoredBlock: blockMap updated: 10.251.73.220:50010 is added to blk_7128370237687728475 size 67108864\n",
    "OUTPUT: <B> BLOCK* NameSystem.addStoredBlock: blockMap updated: <*>:<*> is added to blk_<*> size <*><E>\n",
    "\n",
    "INPUT: 081109 204655 556 INFO dfs.DataNode$PacketResponder: Received block blk_3587508140051953248 of size 67108864 from /10.251.42.84\n",
    "OUTPUT: <B>Received block blk_<*> of size <*> from /<*><E>\n",
    "\n",
    " \n",
    "[2] INPUT: 081109214529 2747 WARN dfs.DataNode$DataXceiver: 10.251.123.132:50010:Got exception while serving blk_3763728533434719668 to /10.251.38.214:\"\"\"\n",
    "\n",
    "\n",
    "prompt3 = \"\"\"INPUT: 081109 203615 148 INFO dfs.DataNode$PacketResponder: PacketResponder 1 for block blk_38865049064139660 terminating\n",
    "OUTPUT: <B>PacketResponder <*> for block blk_<*> terminating<E>\n",
    "\n",
    "INPUT:081109 204005 35 INFO dfs.FSNamesystem: BLOCK* NameSystem.addStoredBlock: blockMap updated: 10.251.73.220:50010 is added to blk_7128370237687728475 size 67108864\n",
    "OUTPUT: <B> BLOCK* NameSystem.addStoredBlock: blockMap updated: <*>:<*> is added to blk_<*> size <*><E>\n",
    "\n",
    "INPUT: 081109 204655 556 INFO dfs.DataNode$PacketResponder: Received block blk_3587508140051953248 of size 67108864 from /10.251.42.84\n",
    "OUTPUT: <B>Received block blk_<*> of size <*> from /<*><E>\n",
    "\n",
    "[3] INPUT: 081109234112 4136 INFO dfs.DataNode$DataXceiver: Receiving block blk_-8562334328670278932 src: /10.251.194.147:46714 dest: /10.251.194.147:50010\"\"\""
   ]
  },
  {
   "cell_type": "code",
   "execution_count": 34,
   "metadata": {},
   "outputs": [],
   "source": [
    "prompts = [prompt1, prompt2, prompt3]"
   ]
  },
  {
   "cell_type": "code",
   "execution_count": 35,
   "metadata": {},
   "outputs": [
    {
     "name": "stdout",
     "output_type": "stream",
     "text": [
      "<B>Verification succeeded forblk_<*><E> \n",
      "\n",
      "<B>Verification succeeded forblk_<*><E> \n",
      "\n",
      "<B><*>:<*>:Got exception while serving blk_<*> to /<*><E> \n",
      "\n",
      "<B><*>:<*>:Got exception while serving blk_<*> to /<*><E> \n",
      "\n",
      "<B>Receiving block blk_<*> src: /<*>:<*> dest: /<*>:<*><E> \n",
      "\n",
      "<B>Receiving block blk_<*> src: /<*>:<*> dest: /<*>:<*><E> \n",
      "\n"
     ]
    }
   ],
   "source": [
    "for prompt in prompts:\n",
    "    print(send_prompt(prompt, convo_create))"
   ]
  },
  {
   "cell_type": "code",
   "execution_count": 36,
   "metadata": {},
   "outputs": [
    {
     "data": {
      "text/plain": [
       "'EXP <B>Verification succeeded for blk_<*><E>\\nEXP <B><*>:<*>:Got exception while serving blk_<*> to /<*>:<E>\\nEXP <B>Receiving block blk_<*> src: /<*>:<*> dest: /<*>:<*><E>'"
      ]
     },
     "execution_count": 36,
     "metadata": {},
     "output_type": "execute_result"
    }
   ],
   "source": [
    "\"\"\"EXP <B>Verification succeeded for blk_<*><E>\n",
    "EXP <B><*>:<*>:Got exception while serving blk_<*> to /<*>:<E>\n",
    "EXP <B>Receiving block blk_<*> src: /<*>:<*> dest: /<*>:<*><E>\"\"\""
   ]
  },
  {
   "cell_type": "code",
   "execution_count": 37,
   "metadata": {},
   "outputs": [
    {
     "ename": "",
     "evalue": "",
     "output_type": "error",
     "traceback": [
      "\u001b[1;31mThe Kernel crashed while executing code in the current cell or a previous cell. \n",
      "\u001b[1;31mPlease review the code in the cell(s) to identify a possible cause of the failure. \n",
      "\u001b[1;31mClick <a href='https://aka.ms/vscodeJupyterKernelCrash'>here</a> for more info. \n",
      "\u001b[1;31mView Jupyter <a href='command:jupyter.viewOutput'>log</a> for further details."
     ]
    }
   ],
   "source": [
    "windscribe(\"disconnect\")"
   ]
  }
 ],
 "metadata": {
  "kernelspec": {
   "display_name": "Python 3",
   "language": "python",
   "name": "python3"
  },
  "language_info": {
   "codemirror_mode": {
    "name": "ipython",
    "version": 3
   },
   "file_extension": ".py",
   "mimetype": "text/x-python",
   "name": "python",
   "nbconvert_exporter": "python",
   "pygments_lexer": "ipython3",
   "version": "3.9.12"
  }
 },
 "nbformat": 4,
 "nbformat_minor": 2
}
