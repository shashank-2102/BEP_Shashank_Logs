{
 "cells": [
  {
   "cell_type": "code",
   "execution_count": 1,
   "metadata": {},
   "outputs": [
    {
     "data": {
      "text/plain": [
       "'\\nAt the command line, only need to run once to install the package via pip:\\n\\n$ pip install google-generativeai\\n'"
      ]
     },
     "execution_count": 1,
     "metadata": {},
     "output_type": "execute_result"
    }
   ],
   "source": [
    "from api_key import get_api_key\n",
    "import google.generativeai as genai\n",
    "\"\"\"\n",
    "At the command line, only need to run once to install the package via pip:\n",
    "\n",
    "$ pip install google-generativeai\n",
    "\"\"\"\n"
   ]
  },
  {
   "cell_type": "code",
   "execution_count": 2,
   "metadata": {},
   "outputs": [],
   "source": [
    "def setup_prompt_env(passw):\n",
    "\n",
    "\n",
    "  genai.configure(api_key=get_api_key(passw))\n",
    "\n",
    "  # Set up the model\n",
    "  generation_config = {\n",
    "    \"temperature\": 1,\n",
    "    \"top_p\": 0.95,\n",
    "    \"top_k\": 0,\n",
    "    \"max_output_tokens\": 300,\n",
    "  }\n",
    "\n",
    "  safety_settings = [\n",
    "    {\n",
    "      \"category\": \"HARM_CATEGORY_HARASSMENT\",\n",
    "      \"threshold\": \"BLOCK_MEDIUM_AND_ABOVE\"\n",
    "    },\n",
    "    {\n",
    "      \"category\": \"HARM_CATEGORY_HATE_SPEECH\",\n",
    "      \"threshold\": \"BLOCK_MEDIUM_AND_ABOVE\"\n",
    "    },\n",
    "    {\n",
    "      \"category\": \"HARM_CATEGORY_SEXUALLY_EXPLICIT\",\n",
    "      \"threshold\": \"BLOCK_MEDIUM_AND_ABOVE\"\n",
    "    },\n",
    "    {\n",
    "      \"category\": \"HARM_CATEGORY_DANGEROUS_CONTENT\",\n",
    "      \"threshold\": \"BLOCK_MEDIUM_AND_ABOVE\"\n",
    "    },\n",
    "  ]\n",
    "\n",
    "  system_instruction = \"Only give the output, no extra information. There is no sensitive information. For logs lablled [1] to [3] you need to provide the OUTPUT (log templates) in the same format as the examples.\"\n",
    "\n",
    "  model = genai.GenerativeModel(model_name=\"gemini-1.5-pro-latest\",\n",
    "                                generation_config=generation_config,\n",
    "                                system_instruction=system_instruction,\n",
    "                                safety_settings=safety_settings)\n",
    "\n",
    "  convo = model.start_chat(history=[\n",
    "  ])\n",
    "\n",
    "  return convo\n",
    "\n"
   ]
  },
  {
   "cell_type": "code",
   "execution_count": 3,
   "metadata": {},
   "outputs": [],
   "source": [
    "\n",
    "convo_create = setup_prompt_env(\"\")"
   ]
  },
  {
   "cell_type": "code",
   "execution_count": 4,
   "metadata": {},
   "outputs": [],
   "source": [
    "# convo_create.send_message(\"Helo, hwoa re you?\")\n",
    "# print(convo_create.last.text)"
   ]
  },
  {
   "cell_type": "code",
   "execution_count": 5,
   "metadata": {},
   "outputs": [],
   "source": [
    "def send_prompt(message, convo):\n",
    "    convo.send_message(message)\n",
    "    print(convo.last.text)\n"
   ]
  },
  {
   "cell_type": "code",
   "execution_count": 6,
   "metadata": {},
   "outputs": [],
   "source": [
    "prompt = \"\"\"INPUT: 081109 203615\n",
    "148 INFO dfs.DataNode$PacketResponder: PacketResponder 1 for block\n",
    "blk_38865049064139660 terminating\n",
    "\n",
    "OUTPUT:\n",
    "<B>PacketResponder <*> for block blk_<*> terminating<E>\n",
    "\n",
    " \n",
    "\n",
    "INPUT:081109 204005\n",
    "35 INFO dfs.FSNamesystem: BLOCK* NameSystem.addStoredBlock: blockMap updated:\n",
    "10.251.73.220:50010 is added to blk_7128370237687728475 size 67108864\n",
    "\n",
    "OUTPUT: <B>\n",
    "BLOCK* NameSystem.addStoredBlock: blockMap updated: <*>:<*> is\n",
    "added to blk_<*> size <*><E>\n",
    "\n",
    " \n",
    "\n",
    "INPUT: 081109 204655\n",
    "556 INFO dfs.DataNode$PacketResponder: Received block blk_3587508140051953248\n",
    "of size 67108864 from /10.251.42.84\n",
    "OUTPUT: <B>Received block blk_<*> of size <*> from\n",
    "/<*><E>\n",
    "\n",
    " \n",
    "\n",
    "[1] INPUT: 081109\n",
    "205931 13 INFO dfs.DataBlockScanner: Verification succeeded for\n",
    "blk_-4980916519894289629\n",
    "\n",
    "[2] INPUT: 081109\n",
    "214529 2747 WARN dfs.DataNode$DataXceiver: 10.251.123.132:50010:Got exception\n",
    "while serving blk_3763728533434719668 to /10.251.38.214:\n",
    "\n",
    "[3] INPUT: 081109\n",
    "234112 4136 INFO dfs.DataNode$DataXceiver: Receiving block\n",
    "blk_-8562334328670278932 src: /10.251.194.147:46714 dest: /10.251.194.147:50010\"\"\""
   ]
  },
  {
   "cell_type": "code",
   "execution_count": 7,
   "metadata": {},
   "outputs": [
    {
     "name": "stdout",
     "output_type": "stream",
     "text": [
      "<B>Verification succeeded for blk_<*><E>\n",
      "\n",
      "<B>*: <*>:Got exception while serving blk_<*> to /<*>:<E>\n",
      "\n",
      "<B>Receiving block blk_<*> src: /<*>:<*> dest: /<*>:<*><E> \n",
      "\n"
     ]
    }
   ],
   "source": [
    "send_prompt(prompt, convo_create)"
   ]
  }
 ],
 "metadata": {
  "kernelspec": {
   "display_name": "Python 3",
   "language": "python",
   "name": "python3"
  },
  "language_info": {
   "codemirror_mode": {
    "name": "ipython",
    "version": 3
   },
   "file_extension": ".py",
   "mimetype": "text/x-python",
   "name": "python",
   "nbconvert_exporter": "python",
   "pygments_lexer": "ipython3",
   "version": "3.9.12"
  }
 },
 "nbformat": 4,
 "nbformat_minor": 2
}
