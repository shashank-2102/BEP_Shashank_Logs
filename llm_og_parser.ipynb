{
 "cells": [
  {
   "cell_type": "code",
   "execution_count": 1,
   "metadata": {},
   "outputs": [],
   "source": [
    "from api_key import get_api_key_jef, get_api_key_sha, get_api_key_sup\n",
    "import google.generativeai as genai\n",
    "from vpn_control import windscribe\n",
    "import pandas as pd\n",
    "import os\n",
    "import re\n",
    "import time"
   ]
  },
  {
   "cell_type": "code",
   "execution_count": 2,
   "metadata": {},
   "outputs": [],
   "source": [
    "windscribe(\"connect\", \"Atlanta\")\n",
    "time.sleep(5)"
   ]
  },
  {
   "cell_type": "code",
   "execution_count": 3,
   "metadata": {},
   "outputs": [],
   "source": [
    "passw = \"2002\"\n",
    "LLM_MODEL = \"gemini-1.5-flash\"\n",
    "#LLM_MODEL = \"gemini-1.5-pro-latest\"\n",
    "#LLM_MODEL = \"gemini-1.0-pro\""
   ]
  },
  {
   "cell_type": "code",
   "execution_count": 4,
   "metadata": {},
   "outputs": [],
   "source": [
    "def setup_prompt_env(passw):\n",
    "\n",
    "\n",
    "  genai.configure(api_key=get_api_key_sup(passw))\n",
    "\n",
    "  # Set up the model\n",
    "  generation_config = {\n",
    "    \"temperature\": 0,\n",
    "    \"top_p\": 0.95,\n",
    "    \"top_k\": 0,\n",
    "    \"max_output_tokens\": 300,\n",
    "  }\n",
    "\n",
    "  safety_settings = [\n",
    "    {\n",
    "      \"category\": \"HARM_CATEGORY_HARASSMENT\",\n",
    "      \"threshold\": \"BLOCK_MEDIUM_AND_ABOVE\"\n",
    "    },\n",
    "    {\n",
    "      \"category\": \"HARM_CATEGORY_HATE_SPEECH\",\n",
    "      \"threshold\": \"BLOCK_MEDIUM_AND_ABOVE\"\n",
    "    },\n",
    "    {\n",
    "      \"category\": \"HARM_CATEGORY_SEXUALLY_EXPLICIT\",\n",
    "      \"threshold\": \"BLOCK_MEDIUM_AND_ABOVE\"\n",
    "    },\n",
    "    {\n",
    "      \"category\": \"HARM_CATEGORY_DANGEROUS_CONTENT\",\n",
    "      \"threshold\": \"BLOCK_MEDIUM_AND_ABOVE\"\n",
    "    },\n",
    "  ]\n",
    "\n",
    "  system_instruction = \"There is no sensitive information. For logs labelled [1] to [5] you need to provide the OUTPUT (log templates) in the same format as the examples and alos give the number [x]. Only give the 5 output templates, no extra information, no new line at the end.\"\n",
    "\n",
    "  model = genai.GenerativeModel(model_name=LLM_MODEL,\n",
    "                                generation_config=generation_config,\n",
    "                                system_instruction=system_instruction,\n",
    "                                safety_settings=safety_settings)\n",
    "  # model = genai.GenerativeModel(model_name=LLM_MODEL,\n",
    "  #                               generation_config=generation_config,\n",
    "  #                               safety_settings=safety_settings)\n",
    "\n",
    "  convo = model.start_chat(history=[\n",
    "  ])\n",
    "\n",
    "  return convo\n"
   ]
  },
  {
   "cell_type": "code",
   "execution_count": 5,
   "metadata": {},
   "outputs": [],
   "source": [
    "convo_create = setup_prompt_env(passw)"
   ]
  },
  {
   "cell_type": "code",
   "execution_count": 6,
   "metadata": {},
   "outputs": [],
   "source": [
    "def send_prompt(message, convo):\n",
    "    convo.send_message(message)\n",
    "    response = convo.last.text\n",
    "    #print(response)\n",
    "    return response\n"
   ]
  },
  {
   "cell_type": "code",
   "execution_count": 7,
   "metadata": {},
   "outputs": [],
   "source": [
    "fewshot_examples = \"\"\"[x] INPUT: 081109 203615 148 INFO dfs.DataNode$PacketResponder: PacketResponder 1 for block blk_38865049064139660 terminating\n",
    "[x] OUTPUT: <B>PacketResponder <*> for block blk_<*> terminating<E>\n",
    "[y] INPUT:081109 204005 35 INFO dfs.FSNamesystem: BLOCK* NameSystem.addStoredBlock: blockMap updated: 10.251.73.220:50010 is added to blk_7128370237687728475 size 67108864\n",
    "[y] OUTPUT: <B> BLOCK* NameSystem.addStoredBlock: blockMap updated: <*>:<*> is added to blk_<*> size <*><E>\n",
    "[z] INPUT: 081109 204655 556 INFO dfs.DataNode$PacketResponder: Received block blk_3587508140051953248 of size 67108864 from /10.251.42.84\n",
    "[z] OUTPUT: <B>Received block blk_<*> of size <*> from /<*><E>\"\"\"\n",
    "\n",
    "logs = \"\"\"[1] INPUT: 081109 204005 35 INFO dfs.FSNamesystem: BLOCK* NameSystem.addStoredBlock: blockMap updated: 10.251.73.220:50010 is added to blk_7128370237687728475 size 67108864\n",
    "[2] INPUT: 081109 204015 308 INFO dfs.DataNode$PacketResponder: PacketResponder 2 for block blk_8229193803249955061 terminating\n",
    "[3] INPUT: 081109 204655 556 INFO dfs.DataNode$PacketResponder: Received block blk_3587508140051953248 of size 67108864 from /10.251.42.84\n",
    "[4] INPUT: 081109 204925 673 INFO dfs.DataNode$DataXceiver: Receiving block blk_-5623176793330377570 src: /10.251.75.228:53725 dest: /10.251.75.228:50010\n",
    "[5] INPUT: 081109 213847 2552 INFO dfs.DataNode$DataXceiver: 10.251.194.213:50010 Served block blk_-7724713468912166542 to /10.251.203.80\"\"\""
   ]
  },
  {
   "cell_type": "code",
   "execution_count": 8,
   "metadata": {},
   "outputs": [],
   "source": [
    "def generate_prompt(fewshot, logs):\n",
    "    #print(f\"{fewshot}\\n\\n{logs}\")\n",
    "    return f\"{fewshot}\\n{logs}\"\n"
   ]
  },
  {
   "cell_type": "code",
   "execution_count": 9,
   "metadata": {},
   "outputs": [
    {
     "name": "stdout",
     "output_type": "stream",
     "text": [
      "[x] INPUT: 081109 203615 148 INFO dfs.DataNode$PacketResponder: PacketResponder 1 for block blk_38865049064139660 terminating\n",
      "[x] OUTPUT: <B>PacketResponder <*> for block blk_<*> terminating<E>\n",
      "[y] INPUT:081109 204005 35 INFO dfs.FSNamesystem: BLOCK* NameSystem.addStoredBlock: blockMap updated: 10.251.73.220:50010 is added to blk_7128370237687728475 size 67108864\n",
      "[y] OUTPUT: <B> BLOCK* NameSystem.addStoredBlock: blockMap updated: <*>:<*> is added to blk_<*> size <*><E>\n",
      "[z] INPUT: 081109 204655 556 INFO dfs.DataNode$PacketResponder: Received block blk_3587508140051953248 of size 67108864 from /10.251.42.84\n",
      "[z] OUTPUT: <B>Received block blk_<*> of size <*> from /<*><E>\n",
      "[1] INPUT: 081109 204005 35 INFO dfs.FSNamesystem: BLOCK* NameSystem.addStoredBlock: blockMap updated: 10.251.73.220:50010 is added to blk_7128370237687728475 size 67108864\n",
      "[2] INPUT: 081109 204015 308 INFO dfs.DataNode$PacketResponder: PacketResponder 2 for block blk_8229193803249955061 terminating\n",
      "[3] INPUT: 081109 204655 556 INFO dfs.DataNode$PacketResponder: Received block blk_3587508140051953248 of size 67108864 from /10.251.42.84\n",
      "[4] INPUT: 081109 204925 673 INFO dfs.DataNode$DataXceiver: Receiving block blk_-5623176793330377570 src: /10.251.75.228:53725 dest: /10.251.75.228:50010\n",
      "[5] INPUT: 081109 213847 2552 INFO dfs.DataNode$DataXceiver: 10.251.194.213:50010 Served block blk_-7724713468912166542 to /10.251.203.80\n"
     ]
    }
   ],
   "source": [
    "print(generate_prompt(fewshot_examples, logs))"
   ]
  },
  {
   "cell_type": "code",
   "execution_count": 10,
   "metadata": {},
   "outputs": [
    {
     "data": {
      "text/plain": [
       "'[1] <B> BLOCK* NameSystem.addStoredBlock: blockMap updated: <*>:<*> is added to blk_<*> size <*><E>\\n[2] <B>PacketResponder <*> for block blk_<*> terminating<E>\\n[3] <B>Received block blk_<*> of size <*> from /<*><E>\\n[4] <B>Receiving block blk_<*> src: /<*><*> dest: /<*><*><E>\\n[5] <B><*>:<*> Served block blk_<*> to /<*><E> \\n'"
      ]
     },
     "execution_count": 10,
     "metadata": {},
     "output_type": "execute_result"
    }
   ],
   "source": [
    "send_prompt(generate_prompt(fewshot_examples, logs), convo_create)"
   ]
  },
  {
   "cell_type": "code",
   "execution_count": 11,
   "metadata": {},
   "outputs": [
    {
     "name": "stdout",
     "output_type": "stream",
     "text": [
      "[1] <B> BLOCK* NameSystem.addStoredBlock: blockMap updated: <*>:<*> is added to blk_<*> size <*><E>\n",
      "[2] <B>PacketResponder <*> for block blk_<*> terminating<E>\n",
      "[3] <B>Received block blk_<*> of size <*> from /<*><E>\n",
      "[4] <B>Receiving block blk_<*> src: /<*><*> dest: /<*><*><E>\n",
      "[5] <B><*>:<*> Served block blk_<*> to /<*><E> \n",
      "\n"
     ]
    }
   ],
   "source": [
    "prompt = generate_prompt(fewshot_examples, logs)\n",
    "output = send_prompt(prompt, convo_create)\n",
    "print(output)"
   ]
  },
  {
   "cell_type": "code",
   "execution_count": 12,
   "metadata": {},
   "outputs": [
    {
     "data": {
      "text/html": [
       "<div>\n",
       "<style scoped>\n",
       "    .dataframe tbody tr th:only-of-type {\n",
       "        vertical-align: middle;\n",
       "    }\n",
       "\n",
       "    .dataframe tbody tr th {\n",
       "        vertical-align: top;\n",
       "    }\n",
       "\n",
       "    .dataframe thead th {\n",
       "        text-align: right;\n",
       "    }\n",
       "</style>\n",
       "<table border=\"1\" class=\"dataframe\">\n",
       "  <thead>\n",
       "    <tr style=\"text-align: right;\">\n",
       "      <th></th>\n",
       "      <th>EventId</th>\n",
       "      <th>LogTemplate</th>\n",
       "      <th>Log</th>\n",
       "    </tr>\n",
       "  </thead>\n",
       "  <tbody>\n",
       "    <tr>\n",
       "      <th>0</th>\n",
       "      <td>E1</td>\n",
       "      <td>&lt;B&gt;&lt;*&gt;:&lt;*&gt; Served block blk_&lt;*&gt; to /&lt;*&gt; &lt;E&gt;</td>\n",
       "      <td>&lt;B&gt;10.250.11.85:50010 Served block blk_2377150...</td>\n",
       "    </tr>\n",
       "    <tr>\n",
       "      <th>1</th>\n",
       "      <td>E1</td>\n",
       "      <td>&lt;B&gt;&lt;*&gt;:&lt;*&gt; Served block blk_&lt;*&gt; to /&lt;*&gt; &lt;E&gt;</td>\n",
       "      <td>&lt;B&gt;10.251.203.80:50010 Served block blk_788894...</td>\n",
       "    </tr>\n",
       "    <tr>\n",
       "      <th>2</th>\n",
       "      <td>E1</td>\n",
       "      <td>&lt;B&gt;&lt;*&gt;:&lt;*&gt; Served block blk_&lt;*&gt; to /&lt;*&gt; &lt;E&gt;</td>\n",
       "      <td>&lt;B&gt;10.250.11.85:50010 Served block blk_2377150...</td>\n",
       "    </tr>\n",
       "    <tr>\n",
       "      <th>3</th>\n",
       "      <td>E1</td>\n",
       "      <td>&lt;B&gt;&lt;*&gt;:&lt;*&gt; Served block blk_&lt;*&gt; to /&lt;*&gt; &lt;E&gt;</td>\n",
       "      <td>&lt;B&gt;10.251.203.80:50010 Served block blk_788894...</td>\n",
       "    </tr>\n",
       "    <tr>\n",
       "      <th>4</th>\n",
       "      <td>E1</td>\n",
       "      <td>&lt;B&gt;&lt;*&gt;:&lt;*&gt; Served block blk_&lt;*&gt; to /&lt;*&gt; &lt;E&gt;</td>\n",
       "      <td>&lt;B&gt;10.250.11.85:50010 Served block blk_2377150...</td>\n",
       "    </tr>\n",
       "    <tr>\n",
       "      <th>...</th>\n",
       "      <td>...</td>\n",
       "      <td>...</td>\n",
       "      <td>...</td>\n",
       "    </tr>\n",
       "    <tr>\n",
       "      <th>95</th>\n",
       "      <td>E3</td>\n",
       "      <td>&lt;B&gt;&lt;*&gt;:&lt;*&gt;:Got exception while serving blk_&lt;*&gt;...</td>\n",
       "      <td>&lt;B&gt;10.250.11.85:50010:Got exception while serv...</td>\n",
       "    </tr>\n",
       "    <tr>\n",
       "      <th>96</th>\n",
       "      <td>E3</td>\n",
       "      <td>&lt;B&gt;&lt;*&gt;:&lt;*&gt;:Got exception while serving blk_&lt;*&gt;...</td>\n",
       "      <td>&lt;B&gt;10.251.203.80:50010:Got exception while ser...</td>\n",
       "    </tr>\n",
       "    <tr>\n",
       "      <th>97</th>\n",
       "      <td>E3</td>\n",
       "      <td>&lt;B&gt;&lt;*&gt;:&lt;*&gt;:Got exception while serving blk_&lt;*&gt;...</td>\n",
       "      <td>&lt;B&gt;10.250.11.85:50010:Got exception while serv...</td>\n",
       "    </tr>\n",
       "    <tr>\n",
       "      <th>98</th>\n",
       "      <td>E3</td>\n",
       "      <td>&lt;B&gt;&lt;*&gt;:&lt;*&gt;:Got exception while serving blk_&lt;*&gt;...</td>\n",
       "      <td>&lt;B&gt;10.251.203.80:50010:Got exception while ser...</td>\n",
       "    </tr>\n",
       "    <tr>\n",
       "      <th>99</th>\n",
       "      <td>E3</td>\n",
       "      <td>&lt;B&gt;&lt;*&gt;:&lt;*&gt;:Got exception while serving blk_&lt;*&gt;...</td>\n",
       "      <td>&lt;B&gt;10.250.11.85:50010:Got exception while serv...</td>\n",
       "    </tr>\n",
       "  </tbody>\n",
       "</table>\n",
       "<p>100 rows × 3 columns</p>\n",
       "</div>"
      ],
      "text/plain": [
       "   EventId                                        LogTemplate  \\\n",
       "0       E1        <B><*>:<*> Served block blk_<*> to /<*> <E>   \n",
       "1       E1        <B><*>:<*> Served block blk_<*> to /<*> <E>   \n",
       "2       E1        <B><*>:<*> Served block blk_<*> to /<*> <E>   \n",
       "3       E1        <B><*>:<*> Served block blk_<*> to /<*> <E>   \n",
       "4       E1        <B><*>:<*> Served block blk_<*> to /<*> <E>   \n",
       "..     ...                                                ...   \n",
       "95      E3  <B><*>:<*>:Got exception while serving blk_<*>...   \n",
       "96      E3  <B><*>:<*>:Got exception while serving blk_<*>...   \n",
       "97      E3  <B><*>:<*>:Got exception while serving blk_<*>...   \n",
       "98      E3  <B><*>:<*>:Got exception while serving blk_<*>...   \n",
       "99      E3  <B><*>:<*>:Got exception while serving blk_<*>...   \n",
       "\n",
       "                                                  Log  \n",
       "0   <B>10.250.11.85:50010 Served block blk_2377150...  \n",
       "1   <B>10.251.203.80:50010 Served block blk_788894...  \n",
       "2   <B>10.250.11.85:50010 Served block blk_2377150...  \n",
       "3   <B>10.251.203.80:50010 Served block blk_788894...  \n",
       "4   <B>10.250.11.85:50010 Served block blk_2377150...  \n",
       "..                                                ...  \n",
       "95  <B>10.250.11.85:50010:Got exception while serv...  \n",
       "96  <B>10.251.203.80:50010:Got exception while ser...  \n",
       "97  <B>10.250.11.85:50010:Got exception while serv...  \n",
       "98  <B>10.251.203.80:50010:Got exception while ser...  \n",
       "99  <B>10.250.11.85:50010:Got exception while serv...  \n",
       "\n",
       "[100 rows x 3 columns]"
      ]
     },
     "execution_count": 12,
     "metadata": {},
     "output_type": "execute_result"
    }
   ],
   "source": [
    "tmep = pd.read_csv(\"data/0_generated_logs_COPY.csv\")\n",
    "df = tmep[:100]\n",
    "df"
   ]
  },
  {
   "cell_type": "code",
   "execution_count": 13,
   "metadata": {},
   "outputs": [
    {
     "name": "stderr",
     "output_type": "stream",
     "text": [
      "C:\\Users\\shash\\AppData\\Local\\Temp\\ipykernel_17492\\360447614.py:22: SettingWithCopyWarning: \n",
      "A value is trying to be set on a copy of a slice from a DataFrame.\n",
      "Try using .loc[row_indexer,col_indexer] = value instead\n",
      "\n",
      "See the caveats in the documentation: https://pandas.pydata.org/pandas-docs/stable/user_guide/indexing.html#returning-a-view-versus-a-copy\n",
      "  df[\"LLMOutput\"] = outputs\n"
     ]
    }
   ],
   "source": [
    "def process_logs(df, fewshot_examples):\n",
    "    outputs = []\n",
    "    for i in range(0, len(df), 5):\n",
    "        time.sleep(4)\n",
    "        chunk = df.iloc[i:i+5]\n",
    "        logs = \"\\n\".join([f\"[{idx % 5 + 1}] INPUT: {row['Log']}\" for idx, row in chunk.iterrows()])\n",
    "        prompt = generate_prompt(fewshot_examples, logs)\n",
    "        output = send_prompt(prompt, convo_create)  # Replace None with actual convo_create if needed\n",
    "        #print(output)\n",
    "        # Remove erroneous newlines by splitting the output and stripping newlines\n",
    "        llm_output_lines = [line.strip() for line in output.split(\"\\n\") if line.strip()]\n",
    "\n",
    "        # Parse the output and add it to the outputs list\n",
    "        for line in llm_output_lines:\n",
    "            parts = line.split(\" \", 1)\n",
    "            if len(parts) > 1:\n",
    "                outputs.append(parts[1])\n",
    "            else:\n",
    "                outputs.append(\"\")  # Handle unexpected format by adding an empty string\n",
    "    \n",
    "    # Add the outputs to the dataframe\n",
    "    df[\"LLMOutput\"] = outputs\n",
    "    return df\n",
    "\n",
    "# Assuming the dataframe and fewshot_examples are defined\n",
    "df_with_outputs = process_logs(df, fewshot_examples)\n",
    "\n"
   ]
  },
  {
   "cell_type": "code",
   "execution_count": 14,
   "metadata": {},
   "outputs": [
    {
     "data": {
      "text/html": [
       "<div>\n",
       "<style scoped>\n",
       "    .dataframe tbody tr th:only-of-type {\n",
       "        vertical-align: middle;\n",
       "    }\n",
       "\n",
       "    .dataframe tbody tr th {\n",
       "        vertical-align: top;\n",
       "    }\n",
       "\n",
       "    .dataframe thead th {\n",
       "        text-align: right;\n",
       "    }\n",
       "</style>\n",
       "<table border=\"1\" class=\"dataframe\">\n",
       "  <thead>\n",
       "    <tr style=\"text-align: right;\">\n",
       "      <th></th>\n",
       "      <th>EventId</th>\n",
       "      <th>LogTemplate</th>\n",
       "      <th>Log</th>\n",
       "      <th>LLMOutput</th>\n",
       "    </tr>\n",
       "  </thead>\n",
       "  <tbody>\n",
       "    <tr>\n",
       "      <th>0</th>\n",
       "      <td>E1</td>\n",
       "      <td>&lt;B&gt;&lt;*&gt;:&lt;*&gt; Served block blk_&lt;*&gt; to /&lt;*&gt; &lt;E&gt;</td>\n",
       "      <td>&lt;B&gt;10.250.11.85:50010 Served block blk_2377150...</td>\n",
       "      <td>&lt;B&gt;&lt;*&gt;:&lt;*&gt; Served block blk_&lt;*&gt; to /&lt;*&gt;&lt;E&gt;</td>\n",
       "    </tr>\n",
       "    <tr>\n",
       "      <th>1</th>\n",
       "      <td>E1</td>\n",
       "      <td>&lt;B&gt;&lt;*&gt;:&lt;*&gt; Served block blk_&lt;*&gt; to /&lt;*&gt; &lt;E&gt;</td>\n",
       "      <td>&lt;B&gt;10.251.203.80:50010 Served block blk_788894...</td>\n",
       "      <td>&lt;B&gt;&lt;*&gt;:&lt;*&gt; Served block blk_&lt;*&gt; to /&lt;*&gt;&lt;E&gt;</td>\n",
       "    </tr>\n",
       "    <tr>\n",
       "      <th>2</th>\n",
       "      <td>E1</td>\n",
       "      <td>&lt;B&gt;&lt;*&gt;:&lt;*&gt; Served block blk_&lt;*&gt; to /&lt;*&gt; &lt;E&gt;</td>\n",
       "      <td>&lt;B&gt;10.250.11.85:50010 Served block blk_2377150...</td>\n",
       "      <td>&lt;B&gt;&lt;*&gt;:&lt;*&gt; Served block blk_&lt;*&gt; to /&lt;*&gt;&lt;E&gt;</td>\n",
       "    </tr>\n",
       "    <tr>\n",
       "      <th>3</th>\n",
       "      <td>E1</td>\n",
       "      <td>&lt;B&gt;&lt;*&gt;:&lt;*&gt; Served block blk_&lt;*&gt; to /&lt;*&gt; &lt;E&gt;</td>\n",
       "      <td>&lt;B&gt;10.251.203.80:50010 Served block blk_788894...</td>\n",
       "      <td>&lt;B&gt;&lt;*&gt;:&lt;*&gt; Served block blk_&lt;*&gt; to /&lt;*&gt;&lt;E&gt;</td>\n",
       "    </tr>\n",
       "    <tr>\n",
       "      <th>4</th>\n",
       "      <td>E1</td>\n",
       "      <td>&lt;B&gt;&lt;*&gt;:&lt;*&gt; Served block blk_&lt;*&gt; to /&lt;*&gt; &lt;E&gt;</td>\n",
       "      <td>&lt;B&gt;10.250.11.85:50010 Served block blk_2377150...</td>\n",
       "      <td>&lt;B&gt;&lt;*&gt;:&lt;*&gt; Served block blk_&lt;*&gt; to /&lt;*&gt;&lt;E&gt;</td>\n",
       "    </tr>\n",
       "    <tr>\n",
       "      <th>...</th>\n",
       "      <td>...</td>\n",
       "      <td>...</td>\n",
       "      <td>...</td>\n",
       "      <td>...</td>\n",
       "    </tr>\n",
       "    <tr>\n",
       "      <th>95</th>\n",
       "      <td>E3</td>\n",
       "      <td>&lt;B&gt;&lt;*&gt;:&lt;*&gt;:Got exception while serving blk_&lt;*&gt;...</td>\n",
       "      <td>&lt;B&gt;10.250.11.85:50010:Got exception while serv...</td>\n",
       "      <td>&lt;B&gt;&lt;*&gt;:&lt;*&gt;:Got exception while serving blk_&lt;*&gt;...</td>\n",
       "    </tr>\n",
       "    <tr>\n",
       "      <th>96</th>\n",
       "      <td>E3</td>\n",
       "      <td>&lt;B&gt;&lt;*&gt;:&lt;*&gt;:Got exception while serving blk_&lt;*&gt;...</td>\n",
       "      <td>&lt;B&gt;10.251.203.80:50010:Got exception while ser...</td>\n",
       "      <td>&lt;B&gt;&lt;*&gt;:&lt;*&gt;:Got exception while serving blk_&lt;*&gt;...</td>\n",
       "    </tr>\n",
       "    <tr>\n",
       "      <th>97</th>\n",
       "      <td>E3</td>\n",
       "      <td>&lt;B&gt;&lt;*&gt;:&lt;*&gt;:Got exception while serving blk_&lt;*&gt;...</td>\n",
       "      <td>&lt;B&gt;10.250.11.85:50010:Got exception while serv...</td>\n",
       "      <td>&lt;B&gt;&lt;*&gt;:&lt;*&gt;:Got exception while serving blk_&lt;*&gt;...</td>\n",
       "    </tr>\n",
       "    <tr>\n",
       "      <th>98</th>\n",
       "      <td>E3</td>\n",
       "      <td>&lt;B&gt;&lt;*&gt;:&lt;*&gt;:Got exception while serving blk_&lt;*&gt;...</td>\n",
       "      <td>&lt;B&gt;10.251.203.80:50010:Got exception while ser...</td>\n",
       "      <td>&lt;B&gt;&lt;*&gt;:&lt;*&gt;:Got exception while serving blk_&lt;*&gt;...</td>\n",
       "    </tr>\n",
       "    <tr>\n",
       "      <th>99</th>\n",
       "      <td>E3</td>\n",
       "      <td>&lt;B&gt;&lt;*&gt;:&lt;*&gt;:Got exception while serving blk_&lt;*&gt;...</td>\n",
       "      <td>&lt;B&gt;10.250.11.85:50010:Got exception while serv...</td>\n",
       "      <td>&lt;B&gt;&lt;*&gt;:&lt;*&gt;:Got exception while serving blk_&lt;*&gt;...</td>\n",
       "    </tr>\n",
       "  </tbody>\n",
       "</table>\n",
       "<p>100 rows × 4 columns</p>\n",
       "</div>"
      ],
      "text/plain": [
       "   EventId                                        LogTemplate  \\\n",
       "0       E1        <B><*>:<*> Served block blk_<*> to /<*> <E>   \n",
       "1       E1        <B><*>:<*> Served block blk_<*> to /<*> <E>   \n",
       "2       E1        <B><*>:<*> Served block blk_<*> to /<*> <E>   \n",
       "3       E1        <B><*>:<*> Served block blk_<*> to /<*> <E>   \n",
       "4       E1        <B><*>:<*> Served block blk_<*> to /<*> <E>   \n",
       "..     ...                                                ...   \n",
       "95      E3  <B><*>:<*>:Got exception while serving blk_<*>...   \n",
       "96      E3  <B><*>:<*>:Got exception while serving blk_<*>...   \n",
       "97      E3  <B><*>:<*>:Got exception while serving blk_<*>...   \n",
       "98      E3  <B><*>:<*>:Got exception while serving blk_<*>...   \n",
       "99      E3  <B><*>:<*>:Got exception while serving blk_<*>...   \n",
       "\n",
       "                                                  Log  \\\n",
       "0   <B>10.250.11.85:50010 Served block blk_2377150...   \n",
       "1   <B>10.251.203.80:50010 Served block blk_788894...   \n",
       "2   <B>10.250.11.85:50010 Served block blk_2377150...   \n",
       "3   <B>10.251.203.80:50010 Served block blk_788894...   \n",
       "4   <B>10.250.11.85:50010 Served block blk_2377150...   \n",
       "..                                                ...   \n",
       "95  <B>10.250.11.85:50010:Got exception while serv...   \n",
       "96  <B>10.251.203.80:50010:Got exception while ser...   \n",
       "97  <B>10.250.11.85:50010:Got exception while serv...   \n",
       "98  <B>10.251.203.80:50010:Got exception while ser...   \n",
       "99  <B>10.250.11.85:50010:Got exception while serv...   \n",
       "\n",
       "                                            LLMOutput  \n",
       "0          <B><*>:<*> Served block blk_<*> to /<*><E>  \n",
       "1          <B><*>:<*> Served block blk_<*> to /<*><E>  \n",
       "2          <B><*>:<*> Served block blk_<*> to /<*><E>  \n",
       "3          <B><*>:<*> Served block blk_<*> to /<*><E>  \n",
       "4          <B><*>:<*> Served block blk_<*> to /<*><E>  \n",
       "..                                                ...  \n",
       "95  <B><*>:<*>:Got exception while serving blk_<*>...  \n",
       "96  <B><*>:<*>:Got exception while serving blk_<*>...  \n",
       "97  <B><*>:<*>:Got exception while serving blk_<*>...  \n",
       "98  <B><*>:<*>:Got exception while serving blk_<*>...  \n",
       "99  <B><*>:<*>:Got exception while serving blk_<*>...  \n",
       "\n",
       "[100 rows x 4 columns]"
      ]
     },
     "execution_count": 14,
     "metadata": {},
     "output_type": "execute_result"
    }
   ],
   "source": [
    "df_with_outputs"
   ]
  },
  {
   "cell_type": "code",
   "execution_count": 16,
   "metadata": {},
   "outputs": [],
   "source": [
    "ooo = df_with_outputs.copy()"
   ]
  },
  {
   "cell_type": "code",
   "execution_count": 23,
   "metadata": {},
   "outputs": [],
   "source": [
    "import pandas as pd\n",
    "import re\n",
    "\n",
    "def clean_logs(df):\n",
    "    # Define the pattern to remove <B>, <E> and spaces after <B> and before <E>\n",
    "    pattern = r'<B>\\s*|\\s*<E>'\n",
    "    \n",
    "    # Apply the pattern to the 'cleanlogs' column\n",
    "    df['LogTemplate'] = df['LogTemplate'].apply(lambda x: re.sub(pattern, '', x))\n",
    "    df['LLMOutput'] = df['LLMOutput'].apply(lambda x: re.sub(pattern, '', x))\n",
    "    \n",
    "\n",
    "\n",
    "\n",
    "# Clean the logs\n",
    "cleaned_df = clean_logs(ooo)\n",
    "\n"
   ]
  },
  {
   "cell_type": "code",
   "execution_count": 24,
   "metadata": {},
   "outputs": [],
   "source": [
    "# Calculate the difference between LogTemplate and LLMOutput\n",
    "ooo['Difference'] = ooo.apply(lambda row: set(row['LogTemplate'].split()) - set(row['LLMOutput'].split()), axis=1)\n",
    "\n",
    "# Convert the set difference back to a string for readability\n",
    "ooo['Difference'] = ooo['Difference'].apply(lambda x: ' '.join(x))"
   ]
  },
  {
   "cell_type": "code",
   "execution_count": 25,
   "metadata": {},
   "outputs": [
    {
     "data": {
      "text/plain": [
       "0     \n",
       "1     \n",
       "2     \n",
       "3     \n",
       "4     \n",
       "5     \n",
       "6     \n",
       "7     \n",
       "8     \n",
       "9     \n",
       "10    \n",
       "11    \n",
       "12    \n",
       "13    \n",
       "14    \n",
       "15    \n",
       "16    \n",
       "17    \n",
       "18    \n",
       "19    \n",
       "20    \n",
       "21    \n",
       "22    \n",
       "23    \n",
       "24    \n",
       "25    \n",
       "26    \n",
       "27    \n",
       "28    \n",
       "29    \n",
       "30    \n",
       "31    \n",
       "32    \n",
       "33    \n",
       "34    \n",
       "35    \n",
       "36    \n",
       "37    \n",
       "38    \n",
       "39    \n",
       "40    \n",
       "41    \n",
       "42    \n",
       "43    \n",
       "44    \n",
       "45    \n",
       "46    \n",
       "47    \n",
       "48    \n",
       "49    \n",
       "Name: Difference, dtype: object"
      ]
     },
     "execution_count": 25,
     "metadata": {},
     "output_type": "execute_result"
    }
   ],
   "source": [
    "ooo[\"Difference\"].head(50)"
   ]
  },
  {
   "cell_type": "code",
   "execution_count": 26,
   "metadata": {},
   "outputs": [
    {
     "data": {
      "text/plain": [
       "0     \n",
       "1     \n",
       "2     \n",
       "3     \n",
       "4     \n",
       "5     \n",
       "6     \n",
       "7     \n",
       "8     \n",
       "9     \n",
       "10    \n",
       "11    \n",
       "12    \n",
       "13    \n",
       "14    \n",
       "15    \n",
       "16    \n",
       "17    \n",
       "18    \n",
       "19    \n",
       "20    \n",
       "21    \n",
       "22    \n",
       "23    \n",
       "24    \n",
       "25    \n",
       "26    \n",
       "27    \n",
       "28    \n",
       "29    \n",
       "30    \n",
       "31    \n",
       "32    \n",
       "33    \n",
       "34    \n",
       "35    \n",
       "36    \n",
       "37    \n",
       "38    \n",
       "39    \n",
       "40    \n",
       "41    \n",
       "42    \n",
       "43    \n",
       "44    \n",
       "45    \n",
       "46    \n",
       "47    \n",
       "48    \n",
       "49    \n",
       "Name: Difference, dtype: object"
      ]
     },
     "execution_count": 26,
     "metadata": {},
     "output_type": "execute_result"
    }
   ],
   "source": [
    "ooo[\"Difference\"].head(50).tail(50)"
   ]
  },
  {
   "cell_type": "code",
   "execution_count": 15,
   "metadata": {},
   "outputs": [
    {
     "ename": "NameError",
     "evalue": "name 'aa' is not defined",
     "output_type": "error",
     "traceback": [
      "\u001b[1;31m---------------------------------------------------------------------------\u001b[0m",
      "\u001b[1;31mNameError\u001b[0m                                 Traceback (most recent call last)",
      "Cell \u001b[1;32mIn[15], line 1\u001b[0m\n\u001b[1;32m----> 1\u001b[0m \u001b[43maa\u001b[49m\n\u001b[0;32m      2\u001b[0m \u001b[38;5;66;03m#windscribe(\"disconnect\")\u001b[39;00m\n",
      "\u001b[1;31mNameError\u001b[0m: name 'aa' is not defined"
     ]
    }
   ],
   "source": [
    "aa\n",
    "#windscribe(\"disconnect\")"
   ]
  }
 ],
 "metadata": {
  "kernelspec": {
   "display_name": "venv",
   "language": "python",
   "name": "python3"
  },
  "language_info": {
   "codemirror_mode": {
    "name": "ipython",
    "version": 3
   },
   "file_extension": ".py",
   "mimetype": "text/x-python",
   "name": "python",
   "nbconvert_exporter": "python",
   "pygments_lexer": "ipython3",
   "version": "3.9.12"
  }
 },
 "nbformat": 4,
 "nbformat_minor": 2
}
