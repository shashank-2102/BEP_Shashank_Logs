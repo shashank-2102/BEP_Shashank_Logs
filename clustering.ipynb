{
 "cells": [
  {
   "cell_type": "code",
   "execution_count": null,
   "metadata": {},
   "outputs": [],
   "source": []
  },
  {
   "cell_type": "code",
   "execution_count": 1,
   "metadata": {},
   "outputs": [],
   "source": [
    "import pandas as pd\n",
    "from sklearn.feature_extraction.text import TfidfVectorizer\n",
    "from sklearn.cluster import MeanShift\n",
    "import numpy as np"
   ]
  },
  {
   "cell_type": "code",
   "execution_count": 26,
   "metadata": {},
   "outputs": [
    {
     "data": {
      "text/html": [
       "<div>\n",
       "<style scoped>\n",
       "    .dataframe tbody tr th:only-of-type {\n",
       "        vertical-align: middle;\n",
       "    }\n",
       "\n",
       "    .dataframe tbody tr th {\n",
       "        vertical-align: top;\n",
       "    }\n",
       "\n",
       "    .dataframe thead th {\n",
       "        text-align: right;\n",
       "    }\n",
       "</style>\n",
       "<table border=\"1\" class=\"dataframe\">\n",
       "  <thead>\n",
       "    <tr style=\"text-align: right;\">\n",
       "      <th></th>\n",
       "      <th>Log</th>\n",
       "    </tr>\n",
       "  </thead>\n",
       "  <tbody>\n",
       "    <tr>\n",
       "      <th>0</th>\n",
       "      <td>081109 203615 148 INFO dfs.DataNode$PacketResp...</td>\n",
       "    </tr>\n",
       "    <tr>\n",
       "      <th>1</th>\n",
       "      <td>081109 203807 222 INFO dfs.DataNode$PacketResp...</td>\n",
       "    </tr>\n",
       "    <tr>\n",
       "      <th>2</th>\n",
       "      <td>081109 204005 35 INFO dfs.FSNamesystem: BLOCK*...</td>\n",
       "    </tr>\n",
       "    <tr>\n",
       "      <th>3</th>\n",
       "      <td>081109 204015 308 INFO dfs.DataNode$PacketResp...</td>\n",
       "    </tr>\n",
       "    <tr>\n",
       "      <th>4</th>\n",
       "      <td>081109 204106 329 INFO dfs.DataNode$PacketResp...</td>\n",
       "    </tr>\n",
       "    <tr>\n",
       "      <th>...</th>\n",
       "      <td>...</td>\n",
       "    </tr>\n",
       "    <tr>\n",
       "      <th>495</th>\n",
       "      <td>081110 103819 19 INFO dfs.FSDataset: Deleting ...</td>\n",
       "    </tr>\n",
       "    <tr>\n",
       "      <th>496</th>\n",
       "      <td>081110 103821 19 INFO dfs.FSDataset: Deleting ...</td>\n",
       "    </tr>\n",
       "    <tr>\n",
       "      <th>497</th>\n",
       "      <td>081110 103827 26 INFO dfs.FSNamesystem: BLOCK*...</td>\n",
       "    </tr>\n",
       "    <tr>\n",
       "      <th>498</th>\n",
       "      <td>081110 103840 19 INFO dfs.FSDataset: Deleting ...</td>\n",
       "    </tr>\n",
       "    <tr>\n",
       "      <th>499</th>\n",
       "      <td>081110 103840 9117 INFO dfs.DataNode$PacketRes...</td>\n",
       "    </tr>\n",
       "  </tbody>\n",
       "</table>\n",
       "<p>500 rows × 1 columns</p>\n",
       "</div>"
      ],
      "text/plain": [
       "                                                   Log\n",
       "0    081109 203615 148 INFO dfs.DataNode$PacketResp...\n",
       "1    081109 203807 222 INFO dfs.DataNode$PacketResp...\n",
       "2    081109 204005 35 INFO dfs.FSNamesystem: BLOCK*...\n",
       "3    081109 204015 308 INFO dfs.DataNode$PacketResp...\n",
       "4    081109 204106 329 INFO dfs.DataNode$PacketResp...\n",
       "..                                                 ...\n",
       "495  081110 103819 19 INFO dfs.FSDataset: Deleting ...\n",
       "496  081110 103821 19 INFO dfs.FSDataset: Deleting ...\n",
       "497  081110 103827 26 INFO dfs.FSNamesystem: BLOCK*...\n",
       "498  081110 103840 19 INFO dfs.FSDataset: Deleting ...\n",
       "499  081110 103840 9117 INFO dfs.DataNode$PacketRes...\n",
       "\n",
       "[500 rows x 1 columns]"
      ]
     },
     "execution_count": 26,
     "metadata": {},
     "output_type": "execute_result"
    }
   ],
   "source": [
    "logs = pd.read_csv(\"data\\merged_logs_small.csv\")\n",
    "df = logs[[\"Log\"]].iloc[0:500]\n",
    "df\n",
    "#logs"
   ]
  },
  {
   "cell_type": "code",
   "execution_count": 29,
   "metadata": {},
   "outputs": [
    {
     "name": "stdout",
     "output_type": "stream",
     "text": [
      "Representative Logs:\n",
      "081110 103111 30 INFO dfs.FSNamesystem: BLOCK* NameSystem.delete: blk_-8403618945096094999 is added to invalidSet of 10.251.42.9:50010\n",
      "081110 011133 5157 INFO dfs.DataNode$PacketResponder: Received block blk_-7007208336332784130 of size 67108864 from /10.251.27.63\n",
      "081109 211918 1777 INFO dfs.DataNode$PacketResponder: PacketResponder 1 for block blk_4886940526690879848 terminating\n"
     ]
    }
   ],
   "source": [
    "# TF-IDF\n",
    "vectorizer = TfidfVectorizer()\n",
    "tfidf_matrix = vectorizer.fit_transform(df['Log'])\n",
    "\n",
    "# mean shift\n",
    "mean_shift = MeanShift()\n",
    "mean_shift.fit(tfidf_matrix.toarray())\n",
    "labels = mean_shift.labels_\n",
    "\n",
    "# adding cluster labels\n",
    "df['cluster'] = labels\n",
    "\n",
    "# slecting representative samples\n",
    "def get_representative_logs(df, tfidf_matrix, mean_shift, num_representative=3):\n",
    "    representative_logs = []\n",
    "    for cluster in np.unique(labels):\n",
    "        cluster_points = df[df['cluster'] == cluster]\n",
    "        cluster_center = mean_shift.cluster_centers_[cluster]\n",
    "        # distance of log to its cluster center\n",
    "        distances = np.linalg.norm(tfidf_matrix[cluster_points.index].toarray() - cluster_center, axis=1)\n",
    "        # indicies of closest logs (most representative of cluster)\n",
    "        closest_indices = np.argsort(distances)\n",
    "        step = max(1, len(closest_indices) // num_representative)\n",
    "        selected_indices = closest_indices[::step][:num_representative]\n",
    "        # append most representative logs for each cluster\n",
    "        for idx in selected_indices:\n",
    "            representative_logs.append(cluster_points.iloc[idx]['Log'])\n",
    "    return representative_logs\n",
    "\n",
    "# SET number of desired examples\n",
    "num_representative = 3\n",
    "\n",
    "# call func\n",
    "representative_logs = get_representative_logs(df, tfidf_matrix, mean_shift, num_representative)\n",
    "\n",
    "print(\"Representative Logs:\")\n",
    "for log in representative_logs:\n",
    "    print(log)"
   ]
  }
 ],
 "metadata": {
  "kernelspec": {
   "display_name": "venv",
   "language": "python",
   "name": "python3"
  },
  "language_info": {
   "codemirror_mode": {
    "name": "ipython",
    "version": 3
   },
   "file_extension": ".py",
   "mimetype": "text/x-python",
   "name": "python",
   "nbconvert_exporter": "python",
   "pygments_lexer": "ipython3",
   "version": "3.9.12"
  }
 },
 "nbformat": 4,
 "nbformat_minor": 2
}
