{
 "cells": [
  {
   "cell_type": "code",
   "execution_count": 24,
   "metadata": {},
   "outputs": [],
   "source": [
    "import pandas as pd\n",
    "from sklearn.feature_extraction.text import TfidfVectorizer\n",
    "from sklearn.cluster import MeanShift\n",
    "import numpy as np"
   ]
  },
  {
   "cell_type": "code",
   "execution_count": 25,
   "metadata": {},
   "outputs": [
    {
     "data": {
      "text/html": [
       "<div>\n",
       "<style scoped>\n",
       "    .dataframe tbody tr th:only-of-type {\n",
       "        vertical-align: middle;\n",
       "    }\n",
       "\n",
       "    .dataframe tbody tr th {\n",
       "        vertical-align: top;\n",
       "    }\n",
       "\n",
       "    .dataframe thead th {\n",
       "        text-align: right;\n",
       "    }\n",
       "</style>\n",
       "<table border=\"1\" class=\"dataframe\">\n",
       "  <thead>\n",
       "    <tr style=\"text-align: right;\">\n",
       "      <th></th>\n",
       "      <th>Log</th>\n",
       "    </tr>\n",
       "  </thead>\n",
       "  <tbody>\n",
       "    <tr>\n",
       "      <th>0</th>\n",
       "      <td>081109 203615 148 INFO dfs.DataNode$PacketResp...</td>\n",
       "    </tr>\n",
       "    <tr>\n",
       "      <th>1</th>\n",
       "      <td>081109 203807 222 INFO dfs.DataNode$PacketResp...</td>\n",
       "    </tr>\n",
       "    <tr>\n",
       "      <th>2</th>\n",
       "      <td>081109 204005 35 INFO dfs.FSNamesystem: BLOCK*...</td>\n",
       "    </tr>\n",
       "    <tr>\n",
       "      <th>3</th>\n",
       "      <td>081109 204015 308 INFO dfs.DataNode$PacketResp...</td>\n",
       "    </tr>\n",
       "    <tr>\n",
       "      <th>4</th>\n",
       "      <td>081109 204106 329 INFO dfs.DataNode$PacketResp...</td>\n",
       "    </tr>\n",
       "    <tr>\n",
       "      <th>...</th>\n",
       "      <td>...</td>\n",
       "    </tr>\n",
       "    <tr>\n",
       "      <th>495</th>\n",
       "      <td>081110 103819 19 INFO dfs.FSDataset: Deleting ...</td>\n",
       "    </tr>\n",
       "    <tr>\n",
       "      <th>496</th>\n",
       "      <td>081110 103821 19 INFO dfs.FSDataset: Deleting ...</td>\n",
       "    </tr>\n",
       "    <tr>\n",
       "      <th>497</th>\n",
       "      <td>081110 103827 26 INFO dfs.FSNamesystem: BLOCK*...</td>\n",
       "    </tr>\n",
       "    <tr>\n",
       "      <th>498</th>\n",
       "      <td>081110 103840 19 INFO dfs.FSDataset: Deleting ...</td>\n",
       "    </tr>\n",
       "    <tr>\n",
       "      <th>499</th>\n",
       "      <td>081110 103840 9117 INFO dfs.DataNode$PacketRes...</td>\n",
       "    </tr>\n",
       "  </tbody>\n",
       "</table>\n",
       "<p>500 rows × 1 columns</p>\n",
       "</div>"
      ],
      "text/plain": [
       "                                                   Log\n",
       "0    081109 203615 148 INFO dfs.DataNode$PacketResp...\n",
       "1    081109 203807 222 INFO dfs.DataNode$PacketResp...\n",
       "2    081109 204005 35 INFO dfs.FSNamesystem: BLOCK*...\n",
       "3    081109 204015 308 INFO dfs.DataNode$PacketResp...\n",
       "4    081109 204106 329 INFO dfs.DataNode$PacketResp...\n",
       "..                                                 ...\n",
       "495  081110 103819 19 INFO dfs.FSDataset: Deleting ...\n",
       "496  081110 103821 19 INFO dfs.FSDataset: Deleting ...\n",
       "497  081110 103827 26 INFO dfs.FSNamesystem: BLOCK*...\n",
       "498  081110 103840 19 INFO dfs.FSDataset: Deleting ...\n",
       "499  081110 103840 9117 INFO dfs.DataNode$PacketRes...\n",
       "\n",
       "[500 rows x 1 columns]"
      ]
     },
     "execution_count": 25,
     "metadata": {},
     "output_type": "execute_result"
    }
   ],
   "source": [
    "logs = pd.read_csv(\"data\\merged_logs_small.csv\")\n",
    "df = logs[[\"Log\"]].iloc[0:500] #test 500 logs"
   ]
  },
  {
   "cell_type": "code",
   "execution_count": 26,
   "metadata": {},
   "outputs": [],
   "source": [
    "def generate_logs(df, tfidf_matrix, mean_shift, labels, num_representative=3):\n",
    "    representative_logs = []\n",
    "    for cluster in np.unique(labels):\n",
    "        cluster_points = df[df['cluster'] == cluster]\n",
    "        cluster_center = mean_shift.cluster_centers_[cluster]\n",
    "        # distance of log to its cluster center\n",
    "        distances = np.linalg.norm(tfidf_matrix[cluster_points.index].toarray() - cluster_center, axis=1)\n",
    "        # indices of closest logs (most representative of cluster)\n",
    "        closest_indices = np.argsort(distances)\n",
    "        step = max(1, len(closest_indices) // num_representative)\n",
    "        selected_indices = closest_indices[::step][:num_representative]\n",
    "        # append most representative logs for each cluster\n",
    "        for idx in selected_indices:\n",
    "            log = cluster_points.iloc[idx]['Log']\n",
    "            template = cluster_points.iloc[idx]['LogTemplate']\n",
    "            representative_logs.append([template, log])\n",
    "            \n",
    "    return representative_logs"
   ]
  },
  {
   "cell_type": "code",
   "execution_count": 27,
   "metadata": {},
   "outputs": [],
   "source": [
    "def get_representative_logs(input_path, num_representative=3):\n",
    "    # TF-IDF\n",
    "    df = pd.read_csv(input_path)\n",
    "    vectorizer = TfidfVectorizer()\n",
    "    tfidf_matrix = vectorizer.fit_transform(df['Log'])\n",
    "\n",
    "    # mean shift\n",
    "    mean_shift = MeanShift()\n",
    "    mean_shift.fit(tfidf_matrix.toarray())\n",
    "    labels = mean_shift.labels_\n",
    "\n",
    "    # adding cluster labels\n",
    "    df['cluster'] = labels\n",
    "\n",
    "    logs = generate_logs(df, tfidf_matrix, mean_shift, labels, num_representative)\n",
    "    return logs"
   ]
  },
  {
   "cell_type": "code",
   "execution_count": 28,
   "metadata": {},
   "outputs": [
    {
     "data": {
      "text/plain": [
       "[['BLOCK* ask <*>:<*> to replicate blk_<*> to datanode(s) <*>:<*>',\n",
       "  '<B>081111 080934 19 INFO dfs.FSNamesystem: BLOCK* ask 10.250.11.85:50010 to replicate blk_2377150260128098806 to datanode(s) 10.251.203.80:50010<E>'],\n",
       " ['<*>:<*>:Got exception while serving blk_<*> to /<*>:',\n",
       "  '<B>081109 214043 2561 WARN dfs.DataNode$DataXceiver: 10.250.11.85:50010:Got exception while serving blk_509586258217225674 to /10.251.203.80:50010<E>'],\n",
       " ['Received block blk_<*> of size <*> from /<*>',\n",
       "  '<B>081109 204722 567 INFO dfs.DataNode$PacketResponder: Received block blk_1234567890123456789 of size 9876543210987654321 from /10.251.203.80 <E>']]"
      ]
     },
     "execution_count": 28,
     "metadata": {},
     "output_type": "execute_result"
    }
   ],
   "source": [
    "a = get_representative_logs(\"data\\TESTparsed_0_generated_logs_COPY.csv\", 3)\n",
    "a"
   ]
  }
 ],
 "metadata": {
  "kernelspec": {
   "display_name": "venv",
   "language": "python",
   "name": "python3"
  },
  "language_info": {
   "codemirror_mode": {
    "name": "ipython",
    "version": 3
   },
   "file_extension": ".py",
   "mimetype": "text/x-python",
   "name": "python",
   "nbconvert_exporter": "python",
   "pygments_lexer": "ipython3",
   "version": "3.9.12"
  }
 },
 "nbformat": 4,
 "nbformat_minor": 2
}
