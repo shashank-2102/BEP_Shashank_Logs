{
 "cells": [
  {
   "cell_type": "code",
   "execution_count": 99,
   "metadata": {},
   "outputs": [],
   "source": [
    "from api_key import get_api_key_jef, get_api_key_sha, get_api_key_sup\n",
    "import google.generativeai as genai\n",
    "from vpn_control import windscribe\n",
    "import time\n",
    "import re\n",
    "import pandas as pd\n",
    "import numpy as np\n",
    "\n"
   ]
  },
  {
   "cell_type": "code",
   "execution_count": 100,
   "metadata": {},
   "outputs": [],
   "source": [
    "windscribe(\"connect\", \"Atlanta\")\n",
    "time.sleep(5)"
   ]
  },
  {
   "cell_type": "code",
   "execution_count": 101,
   "metadata": {},
   "outputs": [],
   "source": [
    "passw = \"2002\"\n",
    "LLM_MODEL = \"gemini-1.5-flash\" #gemini-1.5-pro-latest"
   ]
  },
  {
   "cell_type": "code",
   "execution_count": 102,
   "metadata": {},
   "outputs": [],
   "source": [
    "def setup_prompt_env(passw, extra_instruct):\n",
    "\n",
    "\n",
    "  genai.configure(api_key=get_api_key_sup(passw))\n",
    "\n",
    "  # Set up the model\n",
    "  generation_config = {\n",
    "    \"temperature\": 0,\n",
    "    \"top_p\": 0.95,\n",
    "    \"top_k\": 0,\n",
    "    \"max_output_tokens\": 2500,\n",
    "  }\n",
    "\n",
    "  safety_settings = [\n",
    "    {\n",
    "      \"category\": \"HARM_CATEGORY_HARASSMENT\",\n",
    "      \"threshold\": \"BLOCK_MEDIUM_AND_ABOVE\"\n",
    "    },\n",
    "    {\n",
    "      \"category\": \"HARM_CATEGORY_HATE_SPEECH\",\n",
    "      \"threshold\": \"BLOCK_MEDIUM_AND_ABOVE\"\n",
    "    },\n",
    "    {\n",
    "      \"category\": \"HARM_CATEGORY_SEXUALLY_EXPLICIT\",\n",
    "      \"threshold\": \"BLOCK_MEDIUM_AND_ABOVE\"\n",
    "    },\n",
    "    {\n",
    "      \"category\": \"HARM_CATEGORY_DANGEROUS_CONTENT\",\n",
    "      \"threshold\": \"BLOCK_MEDIUM_AND_ABOVE\"\n",
    "    },\n",
    "  ]\n",
    "\n",
    "  system_instruction = f\"\"\"You must modify all the wildcards <*> with varibles which would make sense in that conxtext such as time, IP address etc. Additonally {extra_instruct}. Pad each log with a begin and end token <B> <E>. For each input create 25 logs with different varibles filled into the wildcards <*>. Find examples below\n",
    "  \n",
    "  INPUT: PacketResponder <*> for block blk_<*> terminating\n",
    "  OUTPUT: \n",
    "    [1] <B>PacketResponder: PacketResponder 1 for block blk_38865049064139660 terminating<E>\n",
    "    [2] <B>PacketResponder: PacketResponder 0 for block blk_-6952295868487656571 terminating<E>\n",
    "    [3] <B>PacketResponder: PacketResponder 2 for block blk_8229193803249955061 terminating<E>\n",
    "    [4] <B>PacketResponder: PacketResponder 2 for block blk_-6670958622368987959 terminating<E>\n",
    "    [5] <B>PacketResponder: PacketResponder 1 for block blk_5017373558217225674 terminating<E>\n",
    "    ...\n",
    "    [25] <B>PacketResponder: PacketResponder 1 for block blk_509586258217225674 terminating<E>\n",
    "\n",
    "  \n",
    " Be creative with numbers DO NOT use repeating or ordered numbers such as 111 or 1234. Do NOT change the rest of the long, only <*> and do not give extra text.\"\"\"\n",
    "\n",
    "  model = genai.GenerativeModel(model_name=LLM_MODEL,\n",
    "                                generation_config=generation_config,\n",
    "                                system_instruction=system_instruction,\n",
    "                                safety_settings=safety_settings)\n",
    "\n",
    "  convo = model.start_chat(history=[\n",
    "  ])\n",
    "\n",
    "  return convo\n"
   ]
  },
  {
   "cell_type": "code",
   "execution_count": 103,
   "metadata": {},
   "outputs": [],
   "source": [
    "def create_logs_LLM(message, convo, extra_instruct):\n",
    "    message =  message \n",
    "    convo.send_message(message)\n",
    "    suggestion = convo.last.text\n",
    "    print(suggestion)\n",
    "    return suggestion"
   ]
  },
  {
   "cell_type": "code",
   "execution_count": 104,
   "metadata": {},
   "outputs": [],
   "source": [
    "\n",
    "def setup_LLM_logs(passw, extra_instruct, message):\n",
    "    convo_create = setup_prompt_env(passw, extra_instruct)\n",
    "    res = create_logs_LLM(message, convo_create, extra_instruct)\n",
    "    return res\n",
    "\n"
   ]
  },
  {
   "cell_type": "code",
   "execution_count": 105,
   "metadata": {},
   "outputs": [
    {
     "name": "stdout",
     "output_type": "stream",
     "text": [
      "<B>BLOCK* NameSystem.addStoredBlock: blockMap updated: 192.168.1.10:50010 is added to blk_8229193803249955061 size 1024<E>\n",
      "<B>BLOCK* NameSystem.addStoredBlock: blockMap updated: 10.0.0.1:50020 is added to blk_38865049064139660 size 2048<E>\n",
      "<B>BLOCK* NameSystem.addStoredBlock: blockMap updated: 172.17.17.1:50030 is added to blk_-6952295868487656571 size 4096<E>\n",
      "<B>BLOCK* NameSystem.addStoredBlock: blockMap updated: 192.168.1.1:50040 is added to blk_5017373558217225674 size 8192<E>\n",
      "<B>BLOCK* NameSystem.addStoredBlock: blockMap updated: 10.0.0.2:50050 is added to blk_-6670958622368987959 size 16384<E>\n",
      "<B>BLOCK* NameSystem.addStoredBlock: blockMap updated: 172.17.17.2:50060 is added to blk_509586258217225674 size 32768<E>\n",
      "<B>BLOCK* NameSystem.addStoredBlock: blockMap updated: 192.168.1.2:50070 is added to blk_8229193803249955062 size 65536<E>\n",
      "<B>BLOCK* NameSystem.addStoredBlock: blockMap updated: 10.0.0.3:50080 is added to blk_38865049064139661 size 131072<E>\n",
      "<B>BLOCK* NameSystem.addStoredBlock: blockMap updated: 172.17.17.3:50090 is added to blk_-6952295868487656572 size 262144<E>\n",
      "<B>BLOCK* NameSystem.addStoredBlock: blockMap updated: 192.168.1.3:50100 is added to blk_5017373558217225675 size 524288<E>\n",
      "<B>BLOCK* NameSystem.addStoredBlock: blockMap updated: 10.0.0.4:50110 is added to blk_-6670958622368987960 size 1048576<E>\n",
      "<B>BLOCK* NameSystem.addStoredBlock: blockMap updated: 172.17.17.4:50120 is added to blk_509586258217225675 size 2097152<E>\n",
      "<B>BLOCK* NameSystem.addStoredBlock: blockMap updated: 192.168.1.4:50130 is added to blk_8229193803249955063 size 4194304<E>\n",
      "<B>BLOCK* NameSystem.addStoredBlock: blockMap updated: 10.0.0.5:50140 is added to blk_38865049064139662 size 8388608<E>\n",
      "<B>BLOCK* NameSystem.addStoredBlock: blockMap updated: 172.17.17.5:50150 is added to blk_-6952295868487656573 size 16777216<E>\n",
      "<B>BLOCK* NameSystem.addStoredBlock: blockMap updated: 192.168.1.5:50160 is added to blk_5017373558217225676 size 33554432<E>\n",
      "<B>BLOCK* NameSystem.addStoredBlock: blockMap updated: 10.0.0.6:50170 is added to blk_-6670958622368987961 size 67108864<E>\n",
      "<B>BLOCK* NameSystem.addStoredBlock: blockMap updated: 172.17.17.6:50180 is added to blk_509586258217225676 size 134217728<E>\n",
      "<B>BLOCK* NameSystem.addStoredBlock: blockMap updated: 192.168.1.6:50190 is added to blk_8229193803249955064 size 268435456<E>\n",
      "<B>BLOCK* NameSystem.addStoredBlock: blockMap updated: 10.0.0.7:50200 is added to blk_38865049064139663 size 536870912<E>\n",
      "<B>BLOCK* NameSystem.addStoredBlock: blockMap updated: 172.17.17.7:50210 is added to blk_-6952295868487656574 size 1073741824<E>\n",
      "<B>BLOCK* NameSystem.addStoredBlock: blockMap updated: 192.168.1.7:50220 is added to blk_5017373558217225677 size 2147483648<E>\n",
      "<B>BLOCK* NameSystem.addStoredBlock: blockMap updated: 10.0.0.8:50230 is added to blk_-6670958622368987962 size 4294967296<E>\n",
      "<B>BLOCK* NameSystem.addStoredBlock: blockMap updated: 172.17.17.8:50240 is added to blk_509586258217225677 size 8589934592<E>\n",
      "<B>BLOCK* NameSystem.addStoredBlock: blockMap updated: 192.168.1.8:50250 is added to blk_8229193803249955065 size 17179869184<E>\n",
      "<B>BLOCK* NameSystem.addStoredBlock: blockMap updated: 10.0.0.9:50260 is added to blk_38865049064139664 size 34359738368<E>\n",
      "<B>BLOCK* NameSystem.addStoredBlock: blockMap updated: 172.17.17.9:50270 is added to blk_-6952295868487656575 size 68719476736<E>\n",
      "<B>BLOCK* NameSystem.addStoredBlock: blockMap updated: 192.168.1.9:50280 is added to blk_5017373558217225678 size 137438953472<E>\n",
      "<B>BLOCK* NameSystem.addStoredBlock: blockMap updated: 10.0.0.10:50290 is added to blk_-6670958622368987963 size 274877906944<E>\n",
      "<B>BLOCK* NameSystem.addStoredBlock: blockMap updated: 172.17.17.10:50300 is added to blk_509586258217225678 size 549755813888<E>\n",
      "\n"
     ]
    },
    {
     "data": {
      "text/plain": [
       "'<B>BLOCK* NameSystem.addStoredBlock: blockMap updated: 192.168.1.10:50010 is added to blk_8229193803249955061 size 1024<E>\\n<B>BLOCK* NameSystem.addStoredBlock: blockMap updated: 10.0.0.1:50020 is added to blk_38865049064139660 size 2048<E>\\n<B>BLOCK* NameSystem.addStoredBlock: blockMap updated: 172.17.17.1:50030 is added to blk_-6952295868487656571 size 4096<E>\\n<B>BLOCK* NameSystem.addStoredBlock: blockMap updated: 192.168.1.1:50040 is added to blk_5017373558217225674 size 8192<E>\\n<B>BLOCK* NameSystem.addStoredBlock: blockMap updated: 10.0.0.2:50050 is added to blk_-6670958622368987959 size 16384<E>\\n<B>BLOCK* NameSystem.addStoredBlock: blockMap updated: 172.17.17.2:50060 is added to blk_509586258217225674 size 32768<E>\\n<B>BLOCK* NameSystem.addStoredBlock: blockMap updated: 192.168.1.2:50070 is added to blk_8229193803249955062 size 65536<E>\\n<B>BLOCK* NameSystem.addStoredBlock: blockMap updated: 10.0.0.3:50080 is added to blk_38865049064139661 size 131072<E>\\n<B>BLOCK* NameSystem.addStoredBlock: blockMap updated: 172.17.17.3:50090 is added to blk_-6952295868487656572 size 262144<E>\\n<B>BLOCK* NameSystem.addStoredBlock: blockMap updated: 192.168.1.3:50100 is added to blk_5017373558217225675 size 524288<E>\\n<B>BLOCK* NameSystem.addStoredBlock: blockMap updated: 10.0.0.4:50110 is added to blk_-6670958622368987960 size 1048576<E>\\n<B>BLOCK* NameSystem.addStoredBlock: blockMap updated: 172.17.17.4:50120 is added to blk_509586258217225675 size 2097152<E>\\n<B>BLOCK* NameSystem.addStoredBlock: blockMap updated: 192.168.1.4:50130 is added to blk_8229193803249955063 size 4194304<E>\\n<B>BLOCK* NameSystem.addStoredBlock: blockMap updated: 10.0.0.5:50140 is added to blk_38865049064139662 size 8388608<E>\\n<B>BLOCK* NameSystem.addStoredBlock: blockMap updated: 172.17.17.5:50150 is added to blk_-6952295868487656573 size 16777216<E>\\n<B>BLOCK* NameSystem.addStoredBlock: blockMap updated: 192.168.1.5:50160 is added to blk_5017373558217225676 size 33554432<E>\\n<B>BLOCK* NameSystem.addStoredBlock: blockMap updated: 10.0.0.6:50170 is added to blk_-6670958622368987961 size 67108864<E>\\n<B>BLOCK* NameSystem.addStoredBlock: blockMap updated: 172.17.17.6:50180 is added to blk_509586258217225676 size 134217728<E>\\n<B>BLOCK* NameSystem.addStoredBlock: blockMap updated: 192.168.1.6:50190 is added to blk_8229193803249955064 size 268435456<E>\\n<B>BLOCK* NameSystem.addStoredBlock: blockMap updated: 10.0.0.7:50200 is added to blk_38865049064139663 size 536870912<E>\\n<B>BLOCK* NameSystem.addStoredBlock: blockMap updated: 172.17.17.7:50210 is added to blk_-6952295868487656574 size 1073741824<E>\\n<B>BLOCK* NameSystem.addStoredBlock: blockMap updated: 192.168.1.7:50220 is added to blk_5017373558217225677 size 2147483648<E>\\n<B>BLOCK* NameSystem.addStoredBlock: blockMap updated: 10.0.0.8:50230 is added to blk_-6670958622368987962 size 4294967296<E>\\n<B>BLOCK* NameSystem.addStoredBlock: blockMap updated: 172.17.17.8:50240 is added to blk_509586258217225677 size 8589934592<E>\\n<B>BLOCK* NameSystem.addStoredBlock: blockMap updated: 192.168.1.8:50250 is added to blk_8229193803249955065 size 17179869184<E>\\n<B>BLOCK* NameSystem.addStoredBlock: blockMap updated: 10.0.0.9:50260 is added to blk_38865049064139664 size 34359738368<E>\\n<B>BLOCK* NameSystem.addStoredBlock: blockMap updated: 172.17.17.9:50270 is added to blk_-6952295868487656575 size 68719476736<E>\\n<B>BLOCK* NameSystem.addStoredBlock: blockMap updated: 192.168.1.9:50280 is added to blk_5017373558217225678 size 137438953472<E>\\n<B>BLOCK* NameSystem.addStoredBlock: blockMap updated: 10.0.0.10:50290 is added to blk_-6670958622368987963 size 274877906944<E>\\n<B>BLOCK* NameSystem.addStoredBlock: blockMap updated: 172.17.17.10:50300 is added to blk_509586258217225678 size 549755813888<E>\\n'"
      ]
     },
     "execution_count": 105,
     "metadata": {},
     "output_type": "execute_result"
    }
   ],
   "source": [
    "setup_LLM_logs(passw, \".\", \"BLOCK* NameSystem.addStoredBlock: blockMap updated: <*>:<*> is added to blk_<*> size <*>\")\n",
    "# #BLOCK* NameSystem.addStoredBlock: blockMap updated: 10.251.43.115:50010 is added to blk_3050920587428079149 size 67108864"
   ]
  },
  {
   "cell_type": "code",
   "execution_count": 106,
   "metadata": {},
   "outputs": [],
   "source": [
    "# setup_LLM_logs(passw, \".\", \"Received block blk_<*> of size <*> from /<*>\")\n",
    "# #Received block blk_3587508140051953248 of size 67108864 from /10.251.42.84"
   ]
  },
  {
   "cell_type": "code",
   "execution_count": null,
   "metadata": {},
   "outputs": [],
   "source": []
  },
  {
   "cell_type": "code",
   "execution_count": 107,
   "metadata": {},
   "outputs": [],
   "source": [
    "#create func that checks only <*> has been replaced"
   ]
  },
  {
   "cell_type": "code",
   "execution_count": 108,
   "metadata": {},
   "outputs": [],
   "source": [
    "# append\n",
    "# 081109 203615 148 INFO dfs.DataNode$ \n",
    "# 081109 203807 222 INFO dfs.DataNode$\n",
    "# 081109 204132 26 INFO dfs.FSNamesystem:\n",
    "#081109 204655 556 INFO dfs.DataNode$PacketResponder: "
   ]
  },
  {
   "cell_type": "code",
   "execution_count": 109,
   "metadata": {},
   "outputs": [],
   "source": [
    "windscribe(\"disconnect\")"
   ]
  }
 ],
 "metadata": {
  "kernelspec": {
   "display_name": "venv",
   "language": "python",
   "name": "python3"
  },
  "language_info": {
   "codemirror_mode": {
    "name": "ipython",
    "version": 3
   },
   "file_extension": ".py",
   "mimetype": "text/x-python",
   "name": "python",
   "nbconvert_exporter": "python",
   "pygments_lexer": "ipython3",
   "version": "3.9.12"
  }
 },
 "nbformat": 4,
 "nbformat_minor": 2
}
