{
 "cells": [
  {
   "cell_type": "code",
   "execution_count": 14,
   "metadata": {},
   "outputs": [],
   "source": [
    "import re\n",
    "import pandas as pd\n",
    "import os\n",
    "import random"
   ]
  },
  {
   "cell_type": "code",
   "execution_count": 15,
   "metadata": {},
   "outputs": [],
   "source": [
    "prefixes = {\n",
    "            \"E1\": [\"081109 213847 2552 INFO dfs.DataNode$DataXceiver: \", \"081109 213907 2497 INFO dfs.DataNode$DataXceiver: \", \"081109 213908 2549 INFO dfs.DataNode$DataXceiver: \"], \n",
    "            \"E2\" :  [\"081110 211541 18 INFO dfs.DataNode: \"], \n",
    "            \"E3\" : [\"081109 214043 2561 WARN dfs.DataNode$DataXceiver: \", \"081109 214043 2561 WARN dfs.DataNode$DataXceiver: \", \"081109 214402 2677 WARN dfs.DataNode$DataXceiver: \"], \n",
    "            \"E4\" : [\"081110 212510 19 INFO dfs.FSNamesystem: \", \"081110 221932 19 INFO dfs.FSNamesystem: \", \"081111 065303 19 INFO dfs.FSNamesystem: \"], \n",
    "            \"E5\" : [\"081111 080934 19 INFO dfs.FSNamesystem: \"], \n",
    "            \"E6\" : [\"81109 204005 35 INFO dfs.FSNamesystem: \", \"081109 204132 26 INFO dfs.FSNamesystem: \", \"081109 204324 34 INFO dfs.FSNamesystem: \"], \n",
    "            \"E7\" : [\"081109 205035 28 INFO dfs.FSNamesystem: \", \"081109 205315 29 INFO dfs.FSNamesystem: \", \"081109 205858 31 INFO dfs.FSNamesystem: \"], \n",
    "            \"E8\" : [\"081110 020724 29 INFO dfs.FSNamesystem: \", \"081110 103026 34 INFO dfs.FSNamesystem: \", \"081110 103026 34 INFO dfs.FSNamesystem: \"], \n",
    "            \"E9\" : [\"081109 213837 19 INFO dfs.FSDataset: \", \"081110 103201 19 INFO dfs.FSDataset: \", \"081110 103257 19 INFO dfs.FSDataset: \"], \n",
    "            \"E10\" : [\"081109 203615 148 INFO dfs.DataNode$PacketResponder: \", \"081109 203807 222 INFO dfs.DataNode$PacketResponder: \", \"081109 204015 308 INFO dfs.DataNode$PacketResponder: \"], \n",
    "            \"E11\" : [\"081109 204655 556 INFO dfs.DataNode$PacketResponder: \", \"081109 204722 567 INFO dfs.DataNode$PacketResponder: \", \"081109 205157 752 INFO dfs.DataNode$PacketResponder: \"], \n",
    "            \"E12\" : [\"081111 050334 20441 INFO dfs.DataNode$DataXceiver: \", \"081111 081055 24136 INFO dfs.DataNode$DataXceiver: \"], \n",
    "            \"E13\" : [\"081109 205749 997 INFO dfs.DataNode$DataXceiver: \", \"081109 210801 1357 INFO dfs.DataNode$DataXceiver: \", \"081109 233835 4139 INFO dfs.DataNode$DataXceiver: \"], \n",
    "            \"E14\" : [\"081110 011237 13 INFO dfs.DataBlockScanner: \", \"081110 153301 13 INFO dfs.DataBlockScanner: \", \"081110 230105 13 INFO dfs.DataBlockScanner: \"]}"
   ]
  },
  {
   "cell_type": "code",
   "execution_count": 16,
   "metadata": {},
   "outputs": [
    {
     "data": {
      "text/plain": [
       "'081109 213847 2552 INFO dfs.DataNode$DataXceiver: '"
      ]
     },
     "execution_count": 16,
     "metadata": {},
     "output_type": "execute_result"
    }
   ],
   "source": [
    "prefixes[\"E1\"][random.randint(0, len(\"E1\"))] "
   ]
  },
  {
   "cell_type": "code",
   "execution_count": 17,
   "metadata": {},
   "outputs": [],
   "source": [
    "def insert_prefix(row, prefixes):\n",
    "    event_id = row['EventId']\n",
    "    prefix_list = prefixes.get(event_id, [])\n",
    "    if prefix_list:\n",
    "        prefix = random.choice(prefix_list)\n",
    "        log = row['Log']\n",
    "        log_with_prefix = re.sub(r'(<B>)', lambda match: match.group(1) + prefix, log, count=1) #regex to insert after <B>\n",
    "        return log_with_prefix\n",
    "    return row['Log']\n"
   ]
  },
  {
   "cell_type": "code",
   "execution_count": 18,
   "metadata": {},
   "outputs": [],
   "source": [
    "def prefix_log(input_path, prefixes):\n",
    "    df = pd.read_csv(input_path)\n",
    "    df['Log'] = df.apply(insert_prefix, axis=1, prefixes=prefixes)\n",
    "    df.to_csv(f\"{input_path[:5]}prefixed_logs/prefixed_{input_path[19:]}\", index=False)\n"
   ]
  },
  {
   "cell_type": "code",
   "execution_count": 20,
   "metadata": {},
   "outputs": [],
   "source": [
    "#prefix_log(\"data/aug_templates/0_generated_logs.csv\", prefixes)"
   ]
  },
  {
   "cell_type": "code",
   "execution_count": 21,
   "metadata": {},
   "outputs": [],
   "source": [
    "#prefix_log(\"data/aug_templates/1_generated_logs.csv\", prefixes)"
   ]
  },
  {
   "cell_type": "code",
   "execution_count": 22,
   "metadata": {},
   "outputs": [],
   "source": [
    "#prefix_log(\"data/aug_templates/2_generated_logs.csv\", prefixes)"
   ]
  },
  {
   "cell_type": "code",
   "execution_count": 23,
   "metadata": {},
   "outputs": [],
   "source": [
    "#prefix_log(\"data/aug_templates/3_generated_logs.csv\", prefixes)"
   ]
  },
  {
   "cell_type": "code",
   "execution_count": 24,
   "metadata": {},
   "outputs": [],
   "source": [
    "#prefix_log(\"data/aug_templates/4_generated_logs.csv\", prefixes)"
   ]
  }
 ],
 "metadata": {
  "kernelspec": {
   "display_name": "venv",
   "language": "python",
   "name": "python3"
  },
  "language_info": {
   "codemirror_mode": {
    "name": "ipython",
    "version": 3
   },
   "file_extension": ".py",
   "mimetype": "text/x-python",
   "name": "python",
   "nbconvert_exporter": "python",
   "pygments_lexer": "ipython3",
   "version": "3.9.12"
  }
 },
 "nbformat": 4,
 "nbformat_minor": 2
}
